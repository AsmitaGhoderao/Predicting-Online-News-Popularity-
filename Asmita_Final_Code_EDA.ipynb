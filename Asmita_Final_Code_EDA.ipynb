{
 "cells": [
  {
   "cell_type": "markdown",
   "metadata": {},
   "source": [
    "# Exploratory Data Analysis"
   ]
  },
  {
   "cell_type": "markdown",
   "metadata": {},
   "source": [
    "### 1. Importing libraries and Reading the dataset"
   ]
  },
  {
   "cell_type": "code",
   "execution_count": 1,
   "metadata": {},
   "outputs": [],
   "source": [
    "import numpy as np\n",
    "import pandas as pd\n",
    "import matplotlib.pyplot as plt\n",
    "import seaborn as sns\n",
    "from scipy.stats import shapiro,bartlett,levene,mannwhitneyu,ttest_ind\n",
    "import os\n",
    "\n",
    "os.chdir('E:/PGP-DSE/Capstone Project/Group 2/OnlineNewsPopularity')\n",
    "\n",
    "df = pd.read_csv('OnlineNewsPopularity.csv')"
   ]
  },
  {
   "cell_type": "markdown",
   "metadata": {},
   "source": [
    "### 2. Displaying the dataset"
   ]
  },
  {
   "cell_type": "code",
   "execution_count": 2,
   "metadata": {},
   "outputs": [
    {
     "data": {
      "text/html": [
       "<div>\n",
       "<style scoped>\n",
       "    .dataframe tbody tr th:only-of-type {\n",
       "        vertical-align: middle;\n",
       "    }\n",
       "\n",
       "    .dataframe tbody tr th {\n",
       "        vertical-align: top;\n",
       "    }\n",
       "\n",
       "    .dataframe thead th {\n",
       "        text-align: right;\n",
       "    }\n",
       "</style>\n",
       "<table border=\"1\" class=\"dataframe\">\n",
       "  <thead>\n",
       "    <tr style=\"text-align: right;\">\n",
       "      <th></th>\n",
       "      <th>url</th>\n",
       "      <th>timedelta</th>\n",
       "      <th>n_tokens_title</th>\n",
       "      <th>n_tokens_content</th>\n",
       "      <th>n_unique_tokens</th>\n",
       "      <th>n_non_stop_words</th>\n",
       "      <th>n_non_stop_unique_tokens</th>\n",
       "      <th>num_hrefs</th>\n",
       "      <th>num_self_hrefs</th>\n",
       "      <th>num_imgs</th>\n",
       "      <th>...</th>\n",
       "      <th>min_positive_polarity</th>\n",
       "      <th>max_positive_polarity</th>\n",
       "      <th>avg_negative_polarity</th>\n",
       "      <th>min_negative_polarity</th>\n",
       "      <th>max_negative_polarity</th>\n",
       "      <th>title_subjectivity</th>\n",
       "      <th>title_sentiment_polarity</th>\n",
       "      <th>abs_title_subjectivity</th>\n",
       "      <th>abs_title_sentiment_polarity</th>\n",
       "      <th>shares</th>\n",
       "    </tr>\n",
       "  </thead>\n",
       "  <tbody>\n",
       "    <tr>\n",
       "      <td>0</td>\n",
       "      <td>http://mashable.com/2013/01/07/amazon-instant-...</td>\n",
       "      <td>731.0</td>\n",
       "      <td>12.0</td>\n",
       "      <td>219.0</td>\n",
       "      <td>0.663594</td>\n",
       "      <td>1.0</td>\n",
       "      <td>0.815385</td>\n",
       "      <td>4.0</td>\n",
       "      <td>2.0</td>\n",
       "      <td>1.0</td>\n",
       "      <td>...</td>\n",
       "      <td>0.100000</td>\n",
       "      <td>0.7</td>\n",
       "      <td>-0.350000</td>\n",
       "      <td>-0.600</td>\n",
       "      <td>-0.200000</td>\n",
       "      <td>0.500000</td>\n",
       "      <td>-0.187500</td>\n",
       "      <td>0.000000</td>\n",
       "      <td>0.187500</td>\n",
       "      <td>593</td>\n",
       "    </tr>\n",
       "    <tr>\n",
       "      <td>1</td>\n",
       "      <td>http://mashable.com/2013/01/07/ap-samsung-spon...</td>\n",
       "      <td>731.0</td>\n",
       "      <td>9.0</td>\n",
       "      <td>255.0</td>\n",
       "      <td>0.604743</td>\n",
       "      <td>1.0</td>\n",
       "      <td>0.791946</td>\n",
       "      <td>3.0</td>\n",
       "      <td>1.0</td>\n",
       "      <td>1.0</td>\n",
       "      <td>...</td>\n",
       "      <td>0.033333</td>\n",
       "      <td>0.7</td>\n",
       "      <td>-0.118750</td>\n",
       "      <td>-0.125</td>\n",
       "      <td>-0.100000</td>\n",
       "      <td>0.000000</td>\n",
       "      <td>0.000000</td>\n",
       "      <td>0.500000</td>\n",
       "      <td>0.000000</td>\n",
       "      <td>711</td>\n",
       "    </tr>\n",
       "    <tr>\n",
       "      <td>2</td>\n",
       "      <td>http://mashable.com/2013/01/07/apple-40-billio...</td>\n",
       "      <td>731.0</td>\n",
       "      <td>9.0</td>\n",
       "      <td>211.0</td>\n",
       "      <td>0.575130</td>\n",
       "      <td>1.0</td>\n",
       "      <td>0.663866</td>\n",
       "      <td>3.0</td>\n",
       "      <td>1.0</td>\n",
       "      <td>1.0</td>\n",
       "      <td>...</td>\n",
       "      <td>0.100000</td>\n",
       "      <td>1.0</td>\n",
       "      <td>-0.466667</td>\n",
       "      <td>-0.800</td>\n",
       "      <td>-0.133333</td>\n",
       "      <td>0.000000</td>\n",
       "      <td>0.000000</td>\n",
       "      <td>0.500000</td>\n",
       "      <td>0.000000</td>\n",
       "      <td>1500</td>\n",
       "    </tr>\n",
       "    <tr>\n",
       "      <td>3</td>\n",
       "      <td>http://mashable.com/2013/01/07/astronaut-notre...</td>\n",
       "      <td>731.0</td>\n",
       "      <td>9.0</td>\n",
       "      <td>531.0</td>\n",
       "      <td>0.503788</td>\n",
       "      <td>1.0</td>\n",
       "      <td>0.665635</td>\n",
       "      <td>9.0</td>\n",
       "      <td>0.0</td>\n",
       "      <td>1.0</td>\n",
       "      <td>...</td>\n",
       "      <td>0.136364</td>\n",
       "      <td>0.8</td>\n",
       "      <td>-0.369697</td>\n",
       "      <td>-0.600</td>\n",
       "      <td>-0.166667</td>\n",
       "      <td>0.000000</td>\n",
       "      <td>0.000000</td>\n",
       "      <td>0.500000</td>\n",
       "      <td>0.000000</td>\n",
       "      <td>1200</td>\n",
       "    </tr>\n",
       "    <tr>\n",
       "      <td>4</td>\n",
       "      <td>http://mashable.com/2013/01/07/att-u-verse-apps/</td>\n",
       "      <td>731.0</td>\n",
       "      <td>13.0</td>\n",
       "      <td>1072.0</td>\n",
       "      <td>0.415646</td>\n",
       "      <td>1.0</td>\n",
       "      <td>0.540890</td>\n",
       "      <td>19.0</td>\n",
       "      <td>19.0</td>\n",
       "      <td>20.0</td>\n",
       "      <td>...</td>\n",
       "      <td>0.033333</td>\n",
       "      <td>1.0</td>\n",
       "      <td>-0.220192</td>\n",
       "      <td>-0.500</td>\n",
       "      <td>-0.050000</td>\n",
       "      <td>0.454545</td>\n",
       "      <td>0.136364</td>\n",
       "      <td>0.045455</td>\n",
       "      <td>0.136364</td>\n",
       "      <td>505</td>\n",
       "    </tr>\n",
       "  </tbody>\n",
       "</table>\n",
       "<p>5 rows × 61 columns</p>\n",
       "</div>"
      ],
      "text/plain": [
       "                                                 url   timedelta  \\\n",
       "0  http://mashable.com/2013/01/07/amazon-instant-...       731.0   \n",
       "1  http://mashable.com/2013/01/07/ap-samsung-spon...       731.0   \n",
       "2  http://mashable.com/2013/01/07/apple-40-billio...       731.0   \n",
       "3  http://mashable.com/2013/01/07/astronaut-notre...       731.0   \n",
       "4   http://mashable.com/2013/01/07/att-u-verse-apps/       731.0   \n",
       "\n",
       "    n_tokens_title   n_tokens_content   n_unique_tokens   n_non_stop_words  \\\n",
       "0             12.0              219.0          0.663594                1.0   \n",
       "1              9.0              255.0          0.604743                1.0   \n",
       "2              9.0              211.0          0.575130                1.0   \n",
       "3              9.0              531.0          0.503788                1.0   \n",
       "4             13.0             1072.0          0.415646                1.0   \n",
       "\n",
       "    n_non_stop_unique_tokens   num_hrefs   num_self_hrefs   num_imgs  ...  \\\n",
       "0                   0.815385         4.0              2.0        1.0  ...   \n",
       "1                   0.791946         3.0              1.0        1.0  ...   \n",
       "2                   0.663866         3.0              1.0        1.0  ...   \n",
       "3                   0.665635         9.0              0.0        1.0  ...   \n",
       "4                   0.540890        19.0             19.0       20.0  ...   \n",
       "\n",
       "    min_positive_polarity   max_positive_polarity   avg_negative_polarity  \\\n",
       "0                0.100000                     0.7               -0.350000   \n",
       "1                0.033333                     0.7               -0.118750   \n",
       "2                0.100000                     1.0               -0.466667   \n",
       "3                0.136364                     0.8               -0.369697   \n",
       "4                0.033333                     1.0               -0.220192   \n",
       "\n",
       "    min_negative_polarity   max_negative_polarity   title_subjectivity  \\\n",
       "0                  -0.600               -0.200000             0.500000   \n",
       "1                  -0.125               -0.100000             0.000000   \n",
       "2                  -0.800               -0.133333             0.000000   \n",
       "3                  -0.600               -0.166667             0.000000   \n",
       "4                  -0.500               -0.050000             0.454545   \n",
       "\n",
       "    title_sentiment_polarity   abs_title_subjectivity  \\\n",
       "0                  -0.187500                 0.000000   \n",
       "1                   0.000000                 0.500000   \n",
       "2                   0.000000                 0.500000   \n",
       "3                   0.000000                 0.500000   \n",
       "4                   0.136364                 0.045455   \n",
       "\n",
       "    abs_title_sentiment_polarity   shares  \n",
       "0                       0.187500      593  \n",
       "1                       0.000000      711  \n",
       "2                       0.000000     1500  \n",
       "3                       0.000000     1200  \n",
       "4                       0.136364      505  \n",
       "\n",
       "[5 rows x 61 columns]"
      ]
     },
     "execution_count": 2,
     "metadata": {},
     "output_type": "execute_result"
    }
   ],
   "source": [
    "df.head()"
   ]
  },
  {
   "cell_type": "markdown",
   "metadata": {},
   "source": [
    "### 3. Checking the size of the data"
   ]
  },
  {
   "cell_type": "code",
   "execution_count": 3,
   "metadata": {},
   "outputs": [
    {
     "data": {
      "text/plain": [
       "(39644, 61)"
      ]
     },
     "execution_count": 3,
     "metadata": {},
     "output_type": "execute_result"
    }
   ],
   "source": [
    "df.shape"
   ]
  },
  {
   "cell_type": "markdown",
   "metadata": {},
   "source": [
    "### 4. Checking the data types of the columns"
   ]
  },
  {
   "cell_type": "code",
   "execution_count": 4,
   "metadata": {},
   "outputs": [
    {
     "name": "stdout",
     "output_type": "stream",
     "text": [
      "<class 'pandas.core.frame.DataFrame'>\n",
      "RangeIndex: 39644 entries, 0 to 39643\n",
      "Data columns (total 61 columns):\n",
      "url                               39644 non-null object\n",
      " timedelta                        39644 non-null float64\n",
      " n_tokens_title                   39644 non-null float64\n",
      " n_tokens_content                 39644 non-null float64\n",
      " n_unique_tokens                  39644 non-null float64\n",
      " n_non_stop_words                 39644 non-null float64\n",
      " n_non_stop_unique_tokens         39644 non-null float64\n",
      " num_hrefs                        39644 non-null float64\n",
      " num_self_hrefs                   39644 non-null float64\n",
      " num_imgs                         39644 non-null float64\n",
      " num_videos                       39644 non-null float64\n",
      " average_token_length             39644 non-null float64\n",
      " num_keywords                     39644 non-null float64\n",
      " data_channel_is_lifestyle        39644 non-null float64\n",
      " data_channel_is_entertainment    39644 non-null float64\n",
      " data_channel_is_bus              39644 non-null float64\n",
      " data_channel_is_socmed           39644 non-null float64\n",
      " data_channel_is_tech             39644 non-null float64\n",
      " data_channel_is_world            39644 non-null float64\n",
      " kw_min_min                       39644 non-null float64\n",
      " kw_max_min                       39644 non-null float64\n",
      " kw_avg_min                       39644 non-null float64\n",
      " kw_min_max                       39644 non-null float64\n",
      " kw_max_max                       39644 non-null float64\n",
      " kw_avg_max                       39644 non-null float64\n",
      " kw_min_avg                       39644 non-null float64\n",
      " kw_max_avg                       39644 non-null float64\n",
      " kw_avg_avg                       39644 non-null float64\n",
      " self_reference_min_shares        39644 non-null float64\n",
      " self_reference_max_shares        39644 non-null float64\n",
      " self_reference_avg_sharess       39644 non-null float64\n",
      " weekday_is_monday                39644 non-null float64\n",
      " weekday_is_tuesday               39644 non-null float64\n",
      " weekday_is_wednesday             39644 non-null float64\n",
      " weekday_is_thursday              39644 non-null float64\n",
      " weekday_is_friday                39644 non-null float64\n",
      " weekday_is_saturday              39644 non-null float64\n",
      " weekday_is_sunday                39644 non-null float64\n",
      " is_weekend                       39644 non-null float64\n",
      " LDA_00                           39644 non-null float64\n",
      " LDA_01                           39644 non-null float64\n",
      " LDA_02                           39644 non-null float64\n",
      " LDA_03                           39644 non-null float64\n",
      " LDA_04                           39644 non-null float64\n",
      " global_subjectivity              39644 non-null float64\n",
      " global_sentiment_polarity        39644 non-null float64\n",
      " global_rate_positive_words       39644 non-null float64\n",
      " global_rate_negative_words       39644 non-null float64\n",
      " rate_positive_words              39644 non-null float64\n",
      " rate_negative_words              39644 non-null float64\n",
      " avg_positive_polarity            39644 non-null float64\n",
      " min_positive_polarity            39644 non-null float64\n",
      " max_positive_polarity            39644 non-null float64\n",
      " avg_negative_polarity            39644 non-null float64\n",
      " min_negative_polarity            39644 non-null float64\n",
      " max_negative_polarity            39644 non-null float64\n",
      " title_subjectivity               39644 non-null float64\n",
      " title_sentiment_polarity         39644 non-null float64\n",
      " abs_title_subjectivity           39644 non-null float64\n",
      " abs_title_sentiment_polarity     39644 non-null float64\n",
      " shares                           39644 non-null int64\n",
      "dtypes: float64(59), int64(1), object(1)\n",
      "memory usage: 18.5+ MB\n"
     ]
    }
   ],
   "source": [
    "df.info()"
   ]
  },
  {
   "cell_type": "markdown",
   "metadata": {},
   "source": [
    "### 5. Descriptive Statistics"
   ]
  },
  {
   "cell_type": "code",
   "execution_count": 5,
   "metadata": {},
   "outputs": [
    {
     "data": {
      "text/html": [
       "<div>\n",
       "<style scoped>\n",
       "    .dataframe tbody tr th:only-of-type {\n",
       "        vertical-align: middle;\n",
       "    }\n",
       "\n",
       "    .dataframe tbody tr th {\n",
       "        vertical-align: top;\n",
       "    }\n",
       "\n",
       "    .dataframe thead th {\n",
       "        text-align: right;\n",
       "    }\n",
       "</style>\n",
       "<table border=\"1\" class=\"dataframe\">\n",
       "  <thead>\n",
       "    <tr style=\"text-align: right;\">\n",
       "      <th></th>\n",
       "      <th>timedelta</th>\n",
       "      <th>n_tokens_title</th>\n",
       "      <th>n_tokens_content</th>\n",
       "      <th>n_unique_tokens</th>\n",
       "      <th>n_non_stop_words</th>\n",
       "      <th>n_non_stop_unique_tokens</th>\n",
       "      <th>num_hrefs</th>\n",
       "      <th>num_self_hrefs</th>\n",
       "      <th>num_imgs</th>\n",
       "      <th>num_videos</th>\n",
       "      <th>...</th>\n",
       "      <th>min_positive_polarity</th>\n",
       "      <th>max_positive_polarity</th>\n",
       "      <th>avg_negative_polarity</th>\n",
       "      <th>min_negative_polarity</th>\n",
       "      <th>max_negative_polarity</th>\n",
       "      <th>title_subjectivity</th>\n",
       "      <th>title_sentiment_polarity</th>\n",
       "      <th>abs_title_subjectivity</th>\n",
       "      <th>abs_title_sentiment_polarity</th>\n",
       "      <th>shares</th>\n",
       "    </tr>\n",
       "  </thead>\n",
       "  <tbody>\n",
       "    <tr>\n",
       "      <td>count</td>\n",
       "      <td>39644.000000</td>\n",
       "      <td>39644.000000</td>\n",
       "      <td>39644.000000</td>\n",
       "      <td>39644.000000</td>\n",
       "      <td>39644.000000</td>\n",
       "      <td>39644.000000</td>\n",
       "      <td>39644.000000</td>\n",
       "      <td>39644.000000</td>\n",
       "      <td>39644.000000</td>\n",
       "      <td>39644.000000</td>\n",
       "      <td>...</td>\n",
       "      <td>39644.000000</td>\n",
       "      <td>39644.000000</td>\n",
       "      <td>39644.000000</td>\n",
       "      <td>39644.000000</td>\n",
       "      <td>39644.000000</td>\n",
       "      <td>39644.000000</td>\n",
       "      <td>39644.000000</td>\n",
       "      <td>39644.000000</td>\n",
       "      <td>39644.000000</td>\n",
       "      <td>39644.000000</td>\n",
       "    </tr>\n",
       "    <tr>\n",
       "      <td>mean</td>\n",
       "      <td>354.530471</td>\n",
       "      <td>10.398749</td>\n",
       "      <td>546.514731</td>\n",
       "      <td>0.548216</td>\n",
       "      <td>0.996469</td>\n",
       "      <td>0.689175</td>\n",
       "      <td>10.883690</td>\n",
       "      <td>3.293638</td>\n",
       "      <td>4.544143</td>\n",
       "      <td>1.249874</td>\n",
       "      <td>...</td>\n",
       "      <td>0.095446</td>\n",
       "      <td>0.756728</td>\n",
       "      <td>-0.259524</td>\n",
       "      <td>-0.521944</td>\n",
       "      <td>-0.107500</td>\n",
       "      <td>0.282353</td>\n",
       "      <td>0.071425</td>\n",
       "      <td>0.341843</td>\n",
       "      <td>0.156064</td>\n",
       "      <td>3395.380184</td>\n",
       "    </tr>\n",
       "    <tr>\n",
       "      <td>std</td>\n",
       "      <td>214.163767</td>\n",
       "      <td>2.114037</td>\n",
       "      <td>471.107508</td>\n",
       "      <td>3.520708</td>\n",
       "      <td>5.231231</td>\n",
       "      <td>3.264816</td>\n",
       "      <td>11.332017</td>\n",
       "      <td>3.855141</td>\n",
       "      <td>8.309434</td>\n",
       "      <td>4.107855</td>\n",
       "      <td>...</td>\n",
       "      <td>0.071315</td>\n",
       "      <td>0.247786</td>\n",
       "      <td>0.127726</td>\n",
       "      <td>0.290290</td>\n",
       "      <td>0.095373</td>\n",
       "      <td>0.324247</td>\n",
       "      <td>0.265450</td>\n",
       "      <td>0.188791</td>\n",
       "      <td>0.226294</td>\n",
       "      <td>11626.950749</td>\n",
       "    </tr>\n",
       "    <tr>\n",
       "      <td>min</td>\n",
       "      <td>8.000000</td>\n",
       "      <td>2.000000</td>\n",
       "      <td>0.000000</td>\n",
       "      <td>0.000000</td>\n",
       "      <td>0.000000</td>\n",
       "      <td>0.000000</td>\n",
       "      <td>0.000000</td>\n",
       "      <td>0.000000</td>\n",
       "      <td>0.000000</td>\n",
       "      <td>0.000000</td>\n",
       "      <td>...</td>\n",
       "      <td>0.000000</td>\n",
       "      <td>0.000000</td>\n",
       "      <td>-1.000000</td>\n",
       "      <td>-1.000000</td>\n",
       "      <td>-1.000000</td>\n",
       "      <td>0.000000</td>\n",
       "      <td>-1.000000</td>\n",
       "      <td>0.000000</td>\n",
       "      <td>0.000000</td>\n",
       "      <td>1.000000</td>\n",
       "    </tr>\n",
       "    <tr>\n",
       "      <td>25%</td>\n",
       "      <td>164.000000</td>\n",
       "      <td>9.000000</td>\n",
       "      <td>246.000000</td>\n",
       "      <td>0.470870</td>\n",
       "      <td>1.000000</td>\n",
       "      <td>0.625739</td>\n",
       "      <td>4.000000</td>\n",
       "      <td>1.000000</td>\n",
       "      <td>1.000000</td>\n",
       "      <td>0.000000</td>\n",
       "      <td>...</td>\n",
       "      <td>0.050000</td>\n",
       "      <td>0.600000</td>\n",
       "      <td>-0.328383</td>\n",
       "      <td>-0.700000</td>\n",
       "      <td>-0.125000</td>\n",
       "      <td>0.000000</td>\n",
       "      <td>0.000000</td>\n",
       "      <td>0.166667</td>\n",
       "      <td>0.000000</td>\n",
       "      <td>946.000000</td>\n",
       "    </tr>\n",
       "    <tr>\n",
       "      <td>50%</td>\n",
       "      <td>339.000000</td>\n",
       "      <td>10.000000</td>\n",
       "      <td>409.000000</td>\n",
       "      <td>0.539226</td>\n",
       "      <td>1.000000</td>\n",
       "      <td>0.690476</td>\n",
       "      <td>8.000000</td>\n",
       "      <td>3.000000</td>\n",
       "      <td>1.000000</td>\n",
       "      <td>0.000000</td>\n",
       "      <td>...</td>\n",
       "      <td>0.100000</td>\n",
       "      <td>0.800000</td>\n",
       "      <td>-0.253333</td>\n",
       "      <td>-0.500000</td>\n",
       "      <td>-0.100000</td>\n",
       "      <td>0.150000</td>\n",
       "      <td>0.000000</td>\n",
       "      <td>0.500000</td>\n",
       "      <td>0.000000</td>\n",
       "      <td>1400.000000</td>\n",
       "    </tr>\n",
       "    <tr>\n",
       "      <td>75%</td>\n",
       "      <td>542.000000</td>\n",
       "      <td>12.000000</td>\n",
       "      <td>716.000000</td>\n",
       "      <td>0.608696</td>\n",
       "      <td>1.000000</td>\n",
       "      <td>0.754630</td>\n",
       "      <td>14.000000</td>\n",
       "      <td>4.000000</td>\n",
       "      <td>4.000000</td>\n",
       "      <td>1.000000</td>\n",
       "      <td>...</td>\n",
       "      <td>0.100000</td>\n",
       "      <td>1.000000</td>\n",
       "      <td>-0.186905</td>\n",
       "      <td>-0.300000</td>\n",
       "      <td>-0.050000</td>\n",
       "      <td>0.500000</td>\n",
       "      <td>0.150000</td>\n",
       "      <td>0.500000</td>\n",
       "      <td>0.250000</td>\n",
       "      <td>2800.000000</td>\n",
       "    </tr>\n",
       "    <tr>\n",
       "      <td>max</td>\n",
       "      <td>731.000000</td>\n",
       "      <td>23.000000</td>\n",
       "      <td>8474.000000</td>\n",
       "      <td>701.000000</td>\n",
       "      <td>1042.000000</td>\n",
       "      <td>650.000000</td>\n",
       "      <td>304.000000</td>\n",
       "      <td>116.000000</td>\n",
       "      <td>128.000000</td>\n",
       "      <td>91.000000</td>\n",
       "      <td>...</td>\n",
       "      <td>1.000000</td>\n",
       "      <td>1.000000</td>\n",
       "      <td>0.000000</td>\n",
       "      <td>0.000000</td>\n",
       "      <td>0.000000</td>\n",
       "      <td>1.000000</td>\n",
       "      <td>1.000000</td>\n",
       "      <td>0.500000</td>\n",
       "      <td>1.000000</td>\n",
       "      <td>843300.000000</td>\n",
       "    </tr>\n",
       "  </tbody>\n",
       "</table>\n",
       "<p>8 rows × 60 columns</p>\n",
       "</div>"
      ],
      "text/plain": [
       "          timedelta   n_tokens_title   n_tokens_content   n_unique_tokens  \\\n",
       "count  39644.000000     39644.000000       39644.000000      39644.000000   \n",
       "mean     354.530471        10.398749         546.514731          0.548216   \n",
       "std      214.163767         2.114037         471.107508          3.520708   \n",
       "min        8.000000         2.000000           0.000000          0.000000   \n",
       "25%      164.000000         9.000000         246.000000          0.470870   \n",
       "50%      339.000000        10.000000         409.000000          0.539226   \n",
       "75%      542.000000        12.000000         716.000000          0.608696   \n",
       "max      731.000000        23.000000        8474.000000        701.000000   \n",
       "\n",
       "        n_non_stop_words   n_non_stop_unique_tokens     num_hrefs  \\\n",
       "count       39644.000000               39644.000000  39644.000000   \n",
       "mean            0.996469                   0.689175     10.883690   \n",
       "std             5.231231                   3.264816     11.332017   \n",
       "min             0.000000                   0.000000      0.000000   \n",
       "25%             1.000000                   0.625739      4.000000   \n",
       "50%             1.000000                   0.690476      8.000000   \n",
       "75%             1.000000                   0.754630     14.000000   \n",
       "max          1042.000000                 650.000000    304.000000   \n",
       "\n",
       "        num_self_hrefs      num_imgs    num_videos  ...  \\\n",
       "count     39644.000000  39644.000000  39644.000000  ...   \n",
       "mean          3.293638      4.544143      1.249874  ...   \n",
       "std           3.855141      8.309434      4.107855  ...   \n",
       "min           0.000000      0.000000      0.000000  ...   \n",
       "25%           1.000000      1.000000      0.000000  ...   \n",
       "50%           3.000000      1.000000      0.000000  ...   \n",
       "75%           4.000000      4.000000      1.000000  ...   \n",
       "max         116.000000    128.000000     91.000000  ...   \n",
       "\n",
       "        min_positive_polarity   max_positive_polarity   avg_negative_polarity  \\\n",
       "count            39644.000000            39644.000000            39644.000000   \n",
       "mean                 0.095446                0.756728               -0.259524   \n",
       "std                  0.071315                0.247786                0.127726   \n",
       "min                  0.000000                0.000000               -1.000000   \n",
       "25%                  0.050000                0.600000               -0.328383   \n",
       "50%                  0.100000                0.800000               -0.253333   \n",
       "75%                  0.100000                1.000000               -0.186905   \n",
       "max                  1.000000                1.000000                0.000000   \n",
       "\n",
       "        min_negative_polarity   max_negative_polarity   title_subjectivity  \\\n",
       "count            39644.000000            39644.000000         39644.000000   \n",
       "mean                -0.521944               -0.107500             0.282353   \n",
       "std                  0.290290                0.095373             0.324247   \n",
       "min                 -1.000000               -1.000000             0.000000   \n",
       "25%                 -0.700000               -0.125000             0.000000   \n",
       "50%                 -0.500000               -0.100000             0.150000   \n",
       "75%                 -0.300000               -0.050000             0.500000   \n",
       "max                  0.000000                0.000000             1.000000   \n",
       "\n",
       "        title_sentiment_polarity   abs_title_subjectivity  \\\n",
       "count               39644.000000             39644.000000   \n",
       "mean                    0.071425                 0.341843   \n",
       "std                     0.265450                 0.188791   \n",
       "min                    -1.000000                 0.000000   \n",
       "25%                     0.000000                 0.166667   \n",
       "50%                     0.000000                 0.500000   \n",
       "75%                     0.150000                 0.500000   \n",
       "max                     1.000000                 0.500000   \n",
       "\n",
       "        abs_title_sentiment_polarity         shares  \n",
       "count                   39644.000000   39644.000000  \n",
       "mean                        0.156064    3395.380184  \n",
       "std                         0.226294   11626.950749  \n",
       "min                         0.000000       1.000000  \n",
       "25%                         0.000000     946.000000  \n",
       "50%                         0.000000    1400.000000  \n",
       "75%                         0.250000    2800.000000  \n",
       "max                         1.000000  843300.000000  \n",
       "\n",
       "[8 rows x 60 columns]"
      ]
     },
     "execution_count": 5,
     "metadata": {},
     "output_type": "execute_result"
    }
   ],
   "source": [
    "df.describe()"
   ]
  },
  {
   "cell_type": "markdown",
   "metadata": {},
   "source": [
    "### 6. Displaying the column names"
   ]
  },
  {
   "cell_type": "code",
   "execution_count": 6,
   "metadata": {},
   "outputs": [
    {
     "data": {
      "text/plain": [
       "Index(['url', ' timedelta', ' n_tokens_title', ' n_tokens_content',\n",
       "       ' n_unique_tokens', ' n_non_stop_words', ' n_non_stop_unique_tokens',\n",
       "       ' num_hrefs', ' num_self_hrefs', ' num_imgs', ' num_videos',\n",
       "       ' average_token_length', ' num_keywords', ' data_channel_is_lifestyle',\n",
       "       ' data_channel_is_entertainment', ' data_channel_is_bus',\n",
       "       ' data_channel_is_socmed', ' data_channel_is_tech',\n",
       "       ' data_channel_is_world', ' kw_min_min', ' kw_max_min', ' kw_avg_min',\n",
       "       ' kw_min_max', ' kw_max_max', ' kw_avg_max', ' kw_min_avg',\n",
       "       ' kw_max_avg', ' kw_avg_avg', ' self_reference_min_shares',\n",
       "       ' self_reference_max_shares', ' self_reference_avg_sharess',\n",
       "       ' weekday_is_monday', ' weekday_is_tuesday', ' weekday_is_wednesday',\n",
       "       ' weekday_is_thursday', ' weekday_is_friday', ' weekday_is_saturday',\n",
       "       ' weekday_is_sunday', ' is_weekend', ' LDA_00', ' LDA_01', ' LDA_02',\n",
       "       ' LDA_03', ' LDA_04', ' global_subjectivity',\n",
       "       ' global_sentiment_polarity', ' global_rate_positive_words',\n",
       "       ' global_rate_negative_words', ' rate_positive_words',\n",
       "       ' rate_negative_words', ' avg_positive_polarity',\n",
       "       ' min_positive_polarity', ' max_positive_polarity',\n",
       "       ' avg_negative_polarity', ' min_negative_polarity',\n",
       "       ' max_negative_polarity', ' title_subjectivity',\n",
       "       ' title_sentiment_polarity', ' abs_title_subjectivity',\n",
       "       ' abs_title_sentiment_polarity', ' shares'],\n",
       "      dtype='object')"
      ]
     },
     "execution_count": 6,
     "metadata": {},
     "output_type": "execute_result"
    }
   ],
   "source": [
    "df.columns"
   ]
  },
  {
   "cell_type": "markdown",
   "metadata": {},
   "source": [
    "### 7. Data Preprocessing"
   ]
  },
  {
   "cell_type": "markdown",
   "metadata": {},
   "source": [
    "#### a) Removing space on the left of column names"
   ]
  },
  {
   "cell_type": "code",
   "execution_count": 7,
   "metadata": {},
   "outputs": [],
   "source": [
    "col_names = df.columns\n",
    "col_names = [i.strip() for i in col_names]\n",
    "\n",
    "# assigning the new column names\n",
    "df.columns = col_names"
   ]
  },
  {
   "cell_type": "markdown",
   "metadata": {},
   "source": [
    "#### b) Fixing names of columns"
   ]
  },
  {
   "cell_type": "code",
   "execution_count": 8,
   "metadata": {},
   "outputs": [],
   "source": [
    "df.rename(columns = {'self_reference_avg_sharess':'self_reference_avg_shares'}, inplace = True)"
   ]
  },
  {
   "cell_type": "markdown",
   "metadata": {},
   "source": [
    "#### c) Removing the non-predictive columns"
   ]
  },
  {
   "cell_type": "code",
   "execution_count": 9,
   "metadata": {},
   "outputs": [],
   "source": [
    "ndf = df.drop(['url','timedelta'], axis = 1)"
   ]
  },
  {
   "cell_type": "markdown",
   "metadata": {},
   "source": [
    "#### d) Checking null values"
   ]
  },
  {
   "cell_type": "code",
   "execution_count": 10,
   "metadata": {},
   "outputs": [
    {
     "data": {
      "text/plain": [
       "n_tokens_title                   0\n",
       "n_tokens_content                 0\n",
       "n_unique_tokens                  0\n",
       "n_non_stop_words                 0\n",
       "n_non_stop_unique_tokens         0\n",
       "num_hrefs                        0\n",
       "num_self_hrefs                   0\n",
       "num_imgs                         0\n",
       "num_videos                       0\n",
       "average_token_length             0\n",
       "num_keywords                     0\n",
       "data_channel_is_lifestyle        0\n",
       "data_channel_is_entertainment    0\n",
       "data_channel_is_bus              0\n",
       "data_channel_is_socmed           0\n",
       "data_channel_is_tech             0\n",
       "data_channel_is_world            0\n",
       "kw_min_min                       0\n",
       "kw_max_min                       0\n",
       "kw_avg_min                       0\n",
       "kw_min_max                       0\n",
       "kw_max_max                       0\n",
       "kw_avg_max                       0\n",
       "kw_min_avg                       0\n",
       "kw_max_avg                       0\n",
       "kw_avg_avg                       0\n",
       "self_reference_min_shares        0\n",
       "self_reference_max_shares        0\n",
       "self_reference_avg_shares        0\n",
       "weekday_is_monday                0\n",
       "weekday_is_tuesday               0\n",
       "weekday_is_wednesday             0\n",
       "weekday_is_thursday              0\n",
       "weekday_is_friday                0\n",
       "weekday_is_saturday              0\n",
       "weekday_is_sunday                0\n",
       "is_weekend                       0\n",
       "LDA_00                           0\n",
       "LDA_01                           0\n",
       "LDA_02                           0\n",
       "LDA_03                           0\n",
       "LDA_04                           0\n",
       "global_subjectivity              0\n",
       "global_sentiment_polarity        0\n",
       "global_rate_positive_words       0\n",
       "global_rate_negative_words       0\n",
       "rate_positive_words              0\n",
       "rate_negative_words              0\n",
       "avg_positive_polarity            0\n",
       "min_positive_polarity            0\n",
       "max_positive_polarity            0\n",
       "avg_negative_polarity            0\n",
       "min_negative_polarity            0\n",
       "max_negative_polarity            0\n",
       "title_subjectivity               0\n",
       "title_sentiment_polarity         0\n",
       "abs_title_subjectivity           0\n",
       "abs_title_sentiment_polarity     0\n",
       "shares                           0\n",
       "dtype: int64"
      ]
     },
     "execution_count": 10,
     "metadata": {},
     "output_type": "execute_result"
    }
   ],
   "source": [
    "ndf.isnull().sum()"
   ]
  },
  {
   "cell_type": "markdown",
   "metadata": {},
   "source": [
    "### Observations:\n",
    "\n",
    "- There are 61 features and 39644 records\n",
    "- There are no null values in the data\n",
    "- The categorical variables are already one-hot encoded\n",
    "- The data seems to be clean\n"
   ]
  },
  {
   "cell_type": "markdown",
   "metadata": {},
   "source": [
    "### 8. Data Exploration (EDA)\n",
    "\n",
    "Considering target as both numerical variable (number of shares) and categorical variable (class)"
   ]
  },
  {
   "cell_type": "markdown",
   "metadata": {},
   "source": [
    "### Distribution of Numerical Variables"
   ]
  },
  {
   "cell_type": "code",
   "execution_count": 11,
   "metadata": {},
   "outputs": [],
   "source": [
    "# functions for creating plots\n",
    "\n",
    "def build_hist_plot(num):\n",
    "    fig = plt.figure(figsize=(15,15))\n",
    "    for i in range(0,len(num)):\n",
    "        fig.add_subplot(len(num),len(num)/2,i+1)\n",
    "        sns.distplot(df[num[i]],kde=False)\n",
    "\n",
    "    plt.show()\n",
    "\n",
    "def build_box_plot(num):\n",
    "    fig = plt.figure(figsize=(15,20))\n",
    "    for i in range(0,len(num)):\n",
    "        fig.add_subplot(len(num),len(num)/2,i+1)\n",
    "        sns.boxplot(df[num[i]])\n",
    "\n",
    "    plt.show()"
   ]
  },
  {
   "cell_type": "code",
   "execution_count": 7,
   "metadata": {},
   "outputs": [
    {
     "data": {
      "image/png": "[encoded data removed]",
      "text/plain": [
       "<Figure size 1080x1080 with 7 Axes>"
      ]
     },
     "metadata": {
      "needs_background": "light"
     },
     "output_type": "display_data"
    }
   ],
   "source": [
    "#n_tokens_title:                Number of words in the title\n",
    "#n_tokens_content:              Number of words in the content\n",
    "#n_unique_tokens:               Rate of unique words in the content\n",
    "#n_non_stop_words:              Rate of non-stop words in the content\n",
    "#n_non_stop_unique_tokens:      Rate of unique non-stop words in the content\n",
    "# average_token_length:         Average length of the words in the content\n",
    "# num_keywords:                 Number of keywords in the metadata\n",
    "\n",
    "\n",
    "words = ['n_tokens_title', 'n_tokens_content', 'n_unique_tokens','n_non_stop_words', 'n_non_stop_unique_tokens',\n",
    "        'average_token_length','num_keywords']\n",
    "\n",
    "build_hist_plot(words)"
   ]
  },
  {
   "cell_type": "code",
   "execution_count": null,
   "metadata": {},
   "outputs": [],
   "source": [
    "# num_hrefs:                     Number of links\n",
    "# num_self_hrefs:                Number of links to other articles published by Mashable\n",
    "# num_imgs:                      Number of images\n",
    "# num_videos:                    Number of videos\n",
    " \n",
    "href_dc = ['num_hrefs', 'num_self_hrefs','num_imgs','num_videos']\n",
    "\n",
    "build_hist_plot(href_dc)"
   ]
  },
  {
   "cell_type": "code",
   "execution_count": null,
   "metadata": {},
   "outputs": [],
   "source": [
    "# kw_min_min:                    Worst keyword (min. shares)\n",
    "# kw_max_min:                    Worst keyword (max. shares)\n",
    "# kw_avg_min:                    Worst keyword (avg. shares)\n",
    "# kw_min_max:                    Best keyword (min. shares)\n",
    "# kw_max_max:                    Best keyword (max. shares)\n",
    "# kw_avg_max:                    Best keyword (avg. shares)\n",
    "# kw_min_avg:                    Avg. keyword (min. shares)\n",
    "# kw_max_avg:                    Avg. keyword (max. shares)\n",
    "# kw_avg_avg:                    Avg. keyword (avg. shares)\n",
    "\n",
    "\n",
    "keywords = ['kw_min_min','kw_max_min','kw_avg_min','kw_min_max',\n",
    "            'kw_max_max','kw_avg_max','kw_min_avg','kw_max_avg','kw_avg_avg']\n",
    "\n",
    "build_hist_plot(keywords)"
   ]
  },
  {
   "cell_type": "code",
   "execution_count": null,
   "metadata": {},
   "outputs": [],
   "source": [
    "# Distribution of self referenced articles\n",
    "\n",
    "# self_reference_min_shares:     Min. shares of referenced articles in Mashable\n",
    "# self_reference_max_shares:     Max. shares of referenced articles in Mashable\n",
    "# self_reference_avg_sharess:    Avg. shares of referenced articles in Mashable\n",
    "\n",
    "self_refer = ['self_reference_min_shares','self_reference_max_shares','self_reference_avg_sharess']\n",
    "\n",
    "build_hist_plot(self_refer)"
   ]
  },
  {
   "cell_type": "code",
   "execution_count": null,
   "metadata": {},
   "outputs": [],
   "source": [
    "# LDA_00:                        Closeness to LDA topic 0\n",
    "# LDA_01:                        Closeness to LDA topic 1\n",
    "# LDA_02:                        Closeness to LDA topic 2\n",
    "# LDA_03:                        Closeness to LDA topic 3\n",
    "# LDA_04:                        Closeness to LDA topic 4\n",
    "\n",
    "lda = ['LDA_00','LDA_01','LDA_02','LDA_03','LDA_04']\n",
    "\n",
    "build_hist_plot(lda)"
   ]
  },
  {
   "cell_type": "code",
   "execution_count": null,
   "metadata": {},
   "outputs": [],
   "source": [
    "# global_rate_positive_words:    Rate of positive words in the content\n",
    "# global_rate_negative_words:    Rate of negative words in the content\n",
    "# rate_positive_words:           Rate of positive words among non-neutral tokens\n",
    "# rate_negative_words:           Rate of negative words among non-neutral tokens\n",
    "\n",
    "word_rates = ['global_rate_positive_words','global_rate_negative_words','rate_positive_words','rate_negative_words']\n",
    "\n",
    "build_hist_plot(word_rates)"
   ]
  },
  {
   "cell_type": "code",
   "execution_count": null,
   "metadata": {},
   "outputs": [],
   "source": [
    "\n",
    "# global_subjectivity:           Text subjectivity\n",
    "# title_subjectivity:            Title subjectivity    \n",
    "# abs_title_subjectivity:        Absolute subjectivity level   \n",
    "    \n",
    "sub = ['global_subjectivity','title_subjectivity','abs_title_subjectivity'] \n",
    "\n",
    "build_hist_plot(sub)"
   ]
  },
  {
   "cell_type": "code",
   "execution_count": null,
   "metadata": {},
   "outputs": [],
   "source": [
    "# avg_positive_polarity:         Avg. polarity of positive words\n",
    "# min_positive_polarity:         Min. polarity of positive words\n",
    "# max_positive_polarity:         Max. polarity of positive words\n",
    "# avg_negative_polarity:         Avg. polarity of negative  words\n",
    "# min_negative_polarity:         Min. polarity of negative  words\n",
    "# max_negative_polarity:         Max. polarity of negative  words\n",
    "\n",
    "word_polarity = ['avg_positive_polarity','min_positive_polarity','max_positive_polarity',\n",
    "                'avg_negative_polarity','min_negative_polarity','max_negative_polarity']\n",
    "\n",
    "build_hist_plot(word_polarity)"
   ]
  },
  {
   "cell_type": "code",
   "execution_count": null,
   "metadata": {},
   "outputs": [],
   "source": [
    "# global_sentiment_polarity:     Text sentiment polarity\n",
    "# title_sentiment_polarity:      Title polarity\n",
    "# abs_title_sentiment_polarity:  Absolute polarity level\n",
    "\n",
    "title_polarity = ['global_sentiment_polarity','title_sentiment_polarity','abs_title_sentiment_polarity']\n",
    "\n",
    "build_hist_plot(title_polarity)"
   ]
  },
  {
   "cell_type": "code",
   "execution_count": 14,
   "metadata": {},
   "outputs": [
    {
     "data": {
      "image/png": "[encoded data removed]",
      "text/plain": [
       "<Figure size 360x360 with 1 Axes>"
      ]
     },
     "metadata": {
      "needs_background": "light"
     },
     "output_type": "display_data"
    }
   ],
   "source": [
    "# shares: Number of shares (target)\n",
    "\n",
    "plt.figure(figsize=(5,5))\n",
    "sns.distplot(df['shares'],kde=True)\n",
    "plt.show()"
   ]
  },
  {
   "cell_type": "markdown",
   "metadata": {},
   "source": [
    "## Inferences:\n",
    "\n",
    "1. The articles having n_token_titles in range of 7 to 15 seem to be shared most\n",
    "\n",
    "2. n_tokens_content seem to have non-linear relationship with shares, it seems that the articles which are not lengthy are shared the most\n",
    "   \n",
    "3. n_unique_tokens,n_non_stop_words,n_non_stop_unique_tokens dont contribute much. As observed the articles having ratio values not more than 1 are shared the most \n",
    "\n",
    "4. Articles having avg token length 0 or more than 3 are mostly shared \n",
    "\n",
    "5. Articles having no. of keywords 3 or more than 4 are mostly shared \n",
    "\n",
    "6. The lower the number of hrefs and self hrefs , the article is likely to be shared\n",
    "\n",
    "7. The lesser the images or videos in articles, the article is likely to be shared\n",
    "\n",
    "8. articles having images are shared more as compared to videos  \n",
    "\n",
    "9. for some articles,n_tokens_content is 0, however\n",
    "    - some articles have only images or videos\n",
    "    - some have both images and videos\n",
    "    - some have only content\n",
    "    - Some don't have any content, images, videos"
   ]
  },
  {
   "cell_type": "markdown",
   "metadata": {},
   "source": [
    "##  Analysing n_tokens_content variable\n",
    "\n",
    "- finding the articles which have a value of 0 or more than 0"
   ]
  },
  {
   "cell_type": "code",
   "execution_count": 12,
   "metadata": {},
   "outputs": [
    {
     "data": {
      "text/html": [
       "<div>\n",
       "<style scoped>\n",
       "    .dataframe tbody tr th:only-of-type {\n",
       "        vertical-align: middle;\n",
       "    }\n",
       "\n",
       "    .dataframe tbody tr th {\n",
       "        vertical-align: top;\n",
       "    }\n",
       "\n",
       "    .dataframe thead th {\n",
       "        text-align: right;\n",
       "    }\n",
       "</style>\n",
       "<table border=\"1\" class=\"dataframe\">\n",
       "  <thead>\n",
       "    <tr style=\"text-align: right;\">\n",
       "      <th></th>\n",
       "      <th>article with</th>\n",
       "      <th>n_article</th>\n",
       "    </tr>\n",
       "  </thead>\n",
       "  <tbody>\n",
       "    <tr>\n",
       "      <td>0</td>\n",
       "      <td>only content</td>\n",
       "      <td>2036</td>\n",
       "    </tr>\n",
       "    <tr>\n",
       "      <td>1</td>\n",
       "      <td>only images</td>\n",
       "      <td>264</td>\n",
       "    </tr>\n",
       "    <tr>\n",
       "      <td>2</td>\n",
       "      <td>only videos</td>\n",
       "      <td>716</td>\n",
       "    </tr>\n",
       "    <tr>\n",
       "      <td>3</td>\n",
       "      <td>both images and videos</td>\n",
       "      <td>100</td>\n",
       "    </tr>\n",
       "    <tr>\n",
       "      <td>4</td>\n",
       "      <td>No content/image/video</td>\n",
       "      <td>101</td>\n",
       "    </tr>\n",
       "    <tr>\n",
       "      <td>5</td>\n",
       "      <td>All</td>\n",
       "      <td>9668</td>\n",
       "    </tr>\n",
       "    <tr>\n",
       "      <td>6</td>\n",
       "      <td>content and image</td>\n",
       "      <td>22625</td>\n",
       "    </tr>\n",
       "    <tr>\n",
       "      <td>7</td>\n",
       "      <td>content and video</td>\n",
       "      <td>4134</td>\n",
       "    </tr>\n",
       "  </tbody>\n",
       "</table>\n",
       "</div>"
      ],
      "text/plain": [
       "             article with  n_article\n",
       "0            only content       2036\n",
       "1             only images        264\n",
       "2             only videos        716\n",
       "3  both images and videos        100\n",
       "4  No content/image/video        101\n",
       "5                     All       9668\n",
       "6       content and image      22625\n",
       "7       content and video       4134"
      ]
     },
     "execution_count": 12,
     "metadata": {},
     "output_type": "execute_result"
    }
   ],
   "source": [
    "# copying original data\n",
    "ndf = df.copy()\n",
    "\n",
    "# number of articles\n",
    "n_articles = [  ndf[(ndf['n_tokens_content'] != 0) & (ndf['num_imgs'] == 0) & (ndf['num_videos'] == 0)].shape[0],\n",
    "                ndf[(ndf['n_tokens_content'] == 0) & (ndf['num_imgs'] != 0) & (ndf['num_videos'] == 0)].shape[0],\n",
    "                ndf[(ndf['n_tokens_content'] == 0) & (ndf['num_imgs'] == 0) & (ndf['num_videos'] != 0)].shape[0],\n",
    "                ndf[(ndf['n_tokens_content'] == 0) & (ndf['num_imgs'] != 0) & (ndf['num_videos'] != 0)].shape[0],\n",
    "                ndf[(ndf['n_tokens_content'] == 0) & (ndf['num_imgs'] == 0) & (ndf['num_videos'] == 0)].shape[0],\n",
    "                ndf[(ndf['n_tokens_content'] != 0) & (ndf['num_imgs'] != 0) & (ndf['num_videos'] != 0)].shape[0],\n",
    "                ndf[(ndf['n_tokens_content'] != 0) & (ndf['num_imgs'] != 0) & (ndf['num_videos'] == 0)].shape[0],\n",
    "                ndf[(ndf['n_tokens_content'] != 0) & (ndf['num_imgs'] == 0) & (ndf['num_videos'] != 0)].shape[0] ]\n",
    "\n",
    "\n",
    "article_type = ['only content', 'only images', 'only videos', 'both images and videos', 'No content/image/video', 'All', \n",
    "                'content and image', 'content and video']\n",
    "\n",
    "\n",
    "pd.DataFrame({'article with': article_type, 'n_article': n_articles })"
   ]
  },
  {
   "cell_type": "markdown",
   "metadata": {},
   "source": [
    "## Analysing Links to other or Mashable articles \n",
    "\n",
    "- finding the number of num_hrefs, num_self_hrefs, self_reference_min_shares, self_reference_max_shares,self_reference_avg_shares to be included in the article"
   ]
  },
  {
   "cell_type": "code",
   "execution_count": 13,
   "metadata": {},
   "outputs": [
    {
     "data": {
      "image/png": "[encoded data removed]",
      "text/plain": [
       "<Figure size 432x288 with 1 Axes>"
      ]
     },
     "metadata": {
      "needs_background": "light"
     },
     "output_type": "display_data"
    }
   ],
   "source": [
    "n = []\n",
    "s = []\n",
    "\n",
    "# get number of shares for number of links upto 20\n",
    "for i in range(0,21):\n",
    "    n.append(i)\n",
    "    s.append(ndf[ndf['num_hrefs'] == i]['shares'].sum())\n",
    "\n",
    "# dictionary for link and its shares\n",
    "links = {'n_links': n, 'n_shares': s}\n",
    "        \n",
    "# dataframe for dict\n",
    "links_df = pd.DataFrame(links,index=None)\n",
    "\n",
    "# sorting the dataframe\n",
    "links_df = links_df.sort_values(by='n_shares', ascending = False)\n",
    "\n",
    "# plotting number of links vs shares\n",
    "sns.barplot(x = 'n_links', y = 'n_shares',data = links_df, order = links_df['n_links'] )\n",
    "plt.show()"
   ]
  },
  {
   "cell_type": "code",
   "execution_count": 14,
   "metadata": {},
   "outputs": [
    {
     "data": {
      "image/png": "[encoded data removed]",
      "text/plain": [
       "<Figure size 432x288 with 1 Axes>"
      ]
     },
     "metadata": {
      "needs_background": "light"
     },
     "output_type": "display_data"
    }
   ],
   "source": [
    "n = []\n",
    "s = []\n",
    "\n",
    "# get number of shares for number of links upto 20\n",
    "for i in range(0,20):\n",
    "    n.append(i)\n",
    "    s.append(ndf[ndf['num_self_hrefs'] == i]['shares'].sum())\n",
    "\n",
    "# dictionary for link and its shares\n",
    "s_links = {'n_self_links': n, 'n_shares': s}\n",
    "        \n",
    "# dataframe for dict\n",
    "s_links_df = pd.DataFrame(s_links,index=None)\n",
    "\n",
    "# sorting dataframe\n",
    "s_links_df = s_links_df.sort_values(by='n_shares', ascending = False)\n",
    "\n",
    "# plotting number of self links vs shares\n",
    "sns.barplot(x = 'n_self_links', y = 'n_shares',data = s_links_df, order = s_links_df['n_self_links'])\n",
    "plt.show()\n",
    "\n"
   ]
  },
  {
   "cell_type": "markdown",
   "metadata": {},
   "source": [
    "## Inferences:\n",
    "\n",
    "1. The total number of links to other articles should be 4,5,3 to gain high shares\n",
    "2. The total number of links to other mashable articles should be 2,1,3 to gain high shares\n",
    "3. Also, a significant drop in shares is observed if there are no self_links or other links to the articles\n",
    "4. The articles having large number of self_links or other links get very few shares"
   ]
  },
  {
   "cell_type": "markdown",
   "metadata": {},
   "source": [
    "## Analysing number of images or videos\n",
    "- finding num_imgs, num_videos to be included in any article"
   ]
  },
  {
   "cell_type": "code",
   "execution_count": 15,
   "metadata": {},
   "outputs": [
    {
     "data": {
      "image/png": "[encoded data removed]",
      "text/plain": [
       "<Figure size 432x288 with 1 Axes>"
      ]
     },
     "metadata": {
      "needs_background": "light"
     },
     "output_type": "display_data"
    }
   ],
   "source": [
    "# Number of Images in articles\n",
    "\n",
    "n = []\n",
    "s = []\n",
    "\n",
    "for i in range(0,10):\n",
    "    n.append(i)\n",
    "    s.append(ndf[ndf['num_imgs'] == i]['shares'].sum())\n",
    "    \n",
    "imgs = {'n_imgs': n, 'n_shares': s}\n",
    "        \n",
    "imgs_df = pd.DataFrame(imgs,index=None)\n",
    "\n",
    "imgs_df = imgs_df.sort_values(by='n_shares', ascending = False)\n",
    "\n",
    "sns.barplot(x = 'n_imgs', y = 'n_shares',data = imgs_df, order = imgs_df['n_imgs'])\n",
    "plt.show()"
   ]
  },
  {
   "cell_type": "code",
   "execution_count": 16,
   "metadata": {},
   "outputs": [
    {
     "data": {
      "image/png": "[encoded data removed]",
      "text/plain": [
       "<Figure size 432x288 with 1 Axes>"
      ]
     },
     "metadata": {
      "needs_background": "light"
     },
     "output_type": "display_data"
    }
   ],
   "source": [
    "# Number of Videos in the articles\n",
    "\n",
    "n = []\n",
    "s = []\n",
    "for i in range(0,10):\n",
    "    n.append(i)\n",
    "    s.append(ndf[ndf['num_videos'] == i]['shares'].sum())\n",
    "    \n",
    "vid = {'n_vid': n, 'n_shares': s}\n",
    "        \n",
    "vid_df = pd.DataFrame(vid,index=None)\n",
    "\n",
    "vid_df = vid_df.sort_values(by='n_shares', ascending = False)\n",
    "\n",
    "sns.barplot(x = 'n_vid', y = 'n_shares',data = vid_df, order = vid_df['n_vid'])\n",
    "plt.show()\n",
    "\n"
   ]
  },
  {
   "cell_type": "markdown",
   "metadata": {},
   "source": [
    "## Inference:\n",
    "- The number of images and videos in any article can be 0,1,2 to get maximum shares\n",
    "- This implies that less the images or videos more likely the article will be shared"
   ]
  },
  {
   "cell_type": "markdown",
   "metadata": {},
   "source": [
    "## Analysing LDA Topics\n",
    " - There are 4 topics given: 'LDA_00','LDA_01','LDA_02','LDA_03','LDA_04'\n",
    " - finding to which topic each article relates"
   ]
  },
  {
   "cell_type": "code",
   "execution_count": 17,
   "metadata": {},
   "outputs": [
    {
     "data": {
      "image/png": "[encoded data removed]",
      "text/plain": [
       "<Figure size 432x288 with 1 Axes>"
      ]
     },
     "metadata": {
      "needs_background": "light"
     },
     "output_type": "display_data"
    }
   ],
   "source": [
    "lda = ['LDA_00','LDA_01','LDA_02','LDA_03','LDA_04']\n",
    "\n",
    "# get maximum value from lda topics for each article\n",
    "lda_max = ndf[lda].max(axis=1)\n",
    "\n",
    "# get lda topic name for each article where value is maximum\n",
    "lda_topic = ndf[lda].idxmax(axis=1)\n",
    "\n",
    "# dataframe for topic and max value\n",
    "all_lda_articles = pd.DataFrame({'topic': lda_topic, 'val': lda_max})\n",
    "\n",
    "# adding these values to data\n",
    "ndf['topic'] = all_lda_articles['topic'] \n",
    "\n",
    "# plotting number of articles in each lda topic\n",
    "sns.barplot(x = ndf['topic'].value_counts().index, y =ndf['topic'].value_counts().values)\n",
    "plt.xlabel('LDA Topics')\n",
    "plt.ylabel('Number of Articles')\n",
    "plt.title('Articles vs LDA Topics\\n')\n",
    "plt.show()"
   ]
  },
  {
   "cell_type": "code",
   "execution_count": 18,
   "metadata": {},
   "outputs": [],
   "source": [
    "# finding data channel for each article\n",
    "ndf['data_ch'] = 0\n",
    "\n",
    "dc = ['data_channel_is_lifestyle','data_channel_is_entertainment','data_channel_is_bus',\n",
    "      'data_channel_is_socmed','data_channel_is_tech','data_channel_is_world']\n",
    "\n",
    "dc_name = ['lifestyle','entertainment','business','socmed','tech','world']\n",
    "\n",
    "for c,d in zip(dc,dc_name):\n",
    "    ndf.loc[ndf[c]==1, 'data_ch'] = d\n",
    "    \n",
    "# replacing the articles which do not have any data channel with 'other'\n",
    "ndf['data_ch'] = ndf['data_ch'].replace(0,'other')"
   ]
  },
  {
   "cell_type": "code",
   "execution_count": 19,
   "metadata": {},
   "outputs": [
    {
     "data": {
      "text/html": [
       "<div>\n",
       "<style scoped>\n",
       "    .dataframe tbody tr th:only-of-type {\n",
       "        vertical-align: middle;\n",
       "    }\n",
       "\n",
       "    .dataframe tbody tr th {\n",
       "        vertical-align: top;\n",
       "    }\n",
       "\n",
       "    .dataframe thead th {\n",
       "        text-align: right;\n",
       "    }\n",
       "</style>\n",
       "<table border=\"1\" class=\"dataframe\">\n",
       "  <thead>\n",
       "    <tr style=\"text-align: right;\">\n",
       "      <th></th>\n",
       "      <th>topic</th>\n",
       "      <th>data_ch</th>\n",
       "      <th>article%</th>\n",
       "    </tr>\n",
       "  </thead>\n",
       "  <tbody>\n",
       "    <tr>\n",
       "      <td>0</td>\n",
       "      <td>LDA_00</td>\n",
       "      <td>business</td>\n",
       "      <td>71.662383</td>\n",
       "    </tr>\n",
       "    <tr>\n",
       "      <td>1</td>\n",
       "      <td>LDA_04</td>\n",
       "      <td>tech</td>\n",
       "      <td>67.918623</td>\n",
       "    </tr>\n",
       "    <tr>\n",
       "      <td>2</td>\n",
       "      <td>LDA_02</td>\n",
       "      <td>world</td>\n",
       "      <td>82.743414</td>\n",
       "    </tr>\n",
       "    <tr>\n",
       "      <td>3</td>\n",
       "      <td>LDA_03</td>\n",
       "      <td>other</td>\n",
       "      <td>57.018299</td>\n",
       "    </tr>\n",
       "    <tr>\n",
       "      <td>4</td>\n",
       "      <td>LDA_01</td>\n",
       "      <td>entertainment</td>\n",
       "      <td>76.318554</td>\n",
       "    </tr>\n",
       "  </tbody>\n",
       "</table>\n",
       "</div>"
      ],
      "text/plain": [
       "    topic        data_ch   article%\n",
       "0  LDA_00       business  71.662383\n",
       "1  LDA_04           tech  67.918623\n",
       "2  LDA_02          world  82.743414\n",
       "3  LDA_03          other  57.018299\n",
       "4  LDA_01  entertainment  76.318554"
      ]
     },
     "execution_count": 19,
     "metadata": {},
     "output_type": "execute_result"
    }
   ],
   "source": [
    "# finding to which topic does the data channel relates and the number of articles for it\n",
    "lda = ndf['topic'].unique()\n",
    "dc = []\n",
    "val = []\n",
    "\n",
    "for topic in lda:\n",
    "    dc.append(ndf[ndf['topic'] == topic]['data_ch'].value_counts(normalize = True).idxmax())\n",
    "    val.append(ndf[ndf['topic'] == topic]['data_ch'].value_counts(normalize = True).max()*100)\n",
    "    \n",
    "lda_articles = pd.DataFrame({'topic': lda, 'data_ch': dc, 'article%': val})\n",
    "\n",
    "lda_articles"
   ]
  },
  {
   "cell_type": "code",
   "execution_count": 20,
   "metadata": {},
   "outputs": [
    {
     "data": {
      "text/plain": [
       "tech             0.679186\n",
       "lifestyle        0.142723\n",
       "world            0.074596\n",
       "business         0.054251\n",
       "socmed           0.027647\n",
       "entertainment    0.013041\n",
       "other            0.008555\n",
       "Name: data_ch, dtype: float64"
      ]
     },
     "execution_count": 20,
     "metadata": {},
     "output_type": "execute_result"
    }
   ],
   "source": [
    "ndf[ndf['topic'] == 'LDA_04']['data_ch'].value_counts(normalize = True)"
   ]
  },
  {
   "cell_type": "code",
   "execution_count": 45,
   "metadata": {},
   "outputs": [
    {
     "data": {
      "image/png": "[encoded data removed]",
      "text/plain": [
       "<Figure size 432x288 with 1 Axes>"
      ]
     },
     "metadata": {
      "needs_background": "light"
     },
     "output_type": "display_data"
    }
   ],
   "source": [
    "sns.countplot(ndf['topic'], hue = ndf['class'], color='yellow')\n",
    "plt.xlabel('LDA Topics')\n",
    "plt.ylabel('Number of Articles')\n",
    "plt.title('Articles vs LDA Topics\\n')\n",
    "plt.show()"
   ]
  },
  {
   "cell_type": "markdown",
   "metadata": {},
   "source": [
    "## Inference:\n",
    "- Higher number of articles are related to the topic 4 where as less articles are related to topic 1 \n",
    "- The articles with article categories as business, technology, world, entertainment and other are closely related to topic 0, topic 4, topic 2, topic 1 and topic 3 respectively\n",
    "- More than 10% of the articles having article categories as lifestyle, entertainment, social media and others are slightly related to topic 4, topic 3, topic 0 and topic 1 respectively."
   ]
  },
  {
   "cell_type": "markdown",
   "metadata": {},
   "source": [
    " "
   ]
  },
  {
   "cell_type": "markdown",
   "metadata": {},
   "source": [
    "# Distribution of Categorical Variables"
   ]
  },
  {
   "cell_type": "code",
   "execution_count": 21,
   "metadata": {},
   "outputs": [],
   "source": [
    "# function to plot the categorical variables\n",
    "def build_count_plot(num):\n",
    "    fig = plt.figure(figsize=(15,20))\n",
    "    for i in range(0,len(num)):\n",
    "        fig.add_subplot(len(num),len(num)/3,i+1)\n",
    "        sns.countplot(ndf[num[i]])\n",
    "    plt.show()\n"
   ]
  },
  {
   "cell_type": "code",
   "execution_count": 22,
   "metadata": {},
   "outputs": [
    {
     "data": {
      "image/png": "[encoded data removed]",
      "text/plain": [
       "<Figure size 1080x1440 with 6 Axes>"
      ]
     },
     "metadata": {
      "needs_background": "light"
     },
     "output_type": "display_data"
    }
   ],
   "source": [
    "data_channels = ['data_channel_is_lifestyle','data_channel_is_entertainment','data_channel_is_bus',\n",
    "                 'data_channel_is_socmed','data_channel_is_tech','data_channel_is_world']\n",
    "\n",
    "build_count_plot(data_channels)"
   ]
  },
  {
   "cell_type": "code",
   "execution_count": 23,
   "metadata": {},
   "outputs": [
    {
     "data": {
      "image/png": "[encoded data removed]",
      "text/plain": [
       "<Figure size 1080x1440 with 8 Axes>"
      ]
     },
     "metadata": {
      "needs_background": "light"
     },
     "output_type": "display_data"
    }
   ],
   "source": [
    "weekdays = ['weekday_is_monday','weekday_is_tuesday','weekday_is_wednesday',\n",
    "           'weekday_is_thursday','weekday_is_friday','weekday_is_saturday','weekday_is_sunday','is_weekend']\n",
    "\n",
    "build_count_plot(weekdays)"
   ]
  },
  {
   "cell_type": "markdown",
   "metadata": {},
   "source": [
    "## Inference:\n",
    "\n",
    "1. Data channels lifestyle and social media have least number of articles\n",
    "2. World data channel has high number of articles\n",
    "3. Least number of articles are released on sunday and saturday"
   ]
  },
  {
   "cell_type": "markdown",
   "metadata": {},
   "source": [
    "## Analysing Data Channels\n",
    "\n",
    "### Data Channel wise distribution of articles\n"
   ]
  },
  {
   "cell_type": "code",
   "execution_count": 24,
   "metadata": {},
   "outputs": [
    {
     "data": {
      "text/html": [
       "<div>\n",
       "<style scoped>\n",
       "    .dataframe tbody tr th:only-of-type {\n",
       "        vertical-align: middle;\n",
       "    }\n",
       "\n",
       "    .dataframe tbody tr th {\n",
       "        vertical-align: top;\n",
       "    }\n",
       "\n",
       "    .dataframe thead th {\n",
       "        text-align: right;\n",
       "    }\n",
       "</style>\n",
       "<table border=\"1\" class=\"dataframe\">\n",
       "  <thead>\n",
       "    <tr style=\"text-align: right;\">\n",
       "      <th></th>\n",
       "      <th>no_of_articles</th>\n",
       "    </tr>\n",
       "  </thead>\n",
       "  <tbody>\n",
       "    <tr>\n",
       "      <td>lifestyle</td>\n",
       "      <td>2099</td>\n",
       "    </tr>\n",
       "    <tr>\n",
       "      <td>entertainment</td>\n",
       "      <td>7057</td>\n",
       "    </tr>\n",
       "    <tr>\n",
       "      <td>bus</td>\n",
       "      <td>6258</td>\n",
       "    </tr>\n",
       "    <tr>\n",
       "      <td>socmed</td>\n",
       "      <td>2323</td>\n",
       "    </tr>\n",
       "    <tr>\n",
       "      <td>tech</td>\n",
       "      <td>7346</td>\n",
       "    </tr>\n",
       "    <tr>\n",
       "      <td>world</td>\n",
       "      <td>8427</td>\n",
       "    </tr>\n",
       "  </tbody>\n",
       "</table>\n",
       "</div>"
      ],
      "text/plain": [
       "               no_of_articles\n",
       "lifestyle                2099\n",
       "entertainment            7057\n",
       "bus                      6258\n",
       "socmed                   2323\n",
       "tech                     7346\n",
       "world                    8427"
      ]
     },
     "execution_count": 24,
     "metadata": {},
     "output_type": "execute_result"
    }
   ],
   "source": [
    "\n",
    "data_channels = ['data_channel_is_lifestyle','data_channel_is_entertainment','data_channel_is_bus',\n",
    "                 'data_channel_is_socmed','data_channel_is_tech','data_channel_is_world']\n",
    "\n",
    "\n",
    "channels = ['lifestyle','entertainment','bus','socmed','tech','world']\n",
    "\n",
    "no_of_articles = []\n",
    "\n",
    "# get count of articles for each data channel\n",
    "for dc in data_channels:\n",
    "    no_of_articles.append(ndf[ndf[dc]==1][dc].value_counts().values[0])\n",
    "\n",
    "# creating the dataframe for count of articles for each dc\n",
    "dc_df = pd.DataFrame(no_of_articles,index = channels,columns=['no_of_articles'])\n",
    "\n",
    "dc_df"
   ]
  },
  {
   "cell_type": "code",
   "execution_count": 25,
   "metadata": {},
   "outputs": [
    {
     "data": {
      "image/png": "[encoded data removed]",
      "text/plain": [
       "<Figure size 1080x360 with 1 Axes>"
      ]
     },
     "metadata": {
      "needs_background": "light"
     },
     "output_type": "display_data"
    }
   ],
   "source": [
    "# plotting the above dataframe values\n",
    "plt.figure(figsize=(15,5))\n",
    "sns.barplot(x=dc_df.index,y=dc_df['no_of_articles'])\n",
    "plt.show()"
   ]
  },
  {
   "cell_type": "code",
   "execution_count": 26,
   "metadata": {},
   "outputs": [
    {
     "data": {
      "text/plain": [
       "6134"
      ]
     },
     "execution_count": 26,
     "metadata": {},
     "output_type": "execute_result"
    }
   ],
   "source": [
    "# Number of Articles which do not fall under any of the data channels\n",
    "\n",
    "ndf[(ndf['data_channel_is_lifestyle']== 0) & (ndf['data_channel_is_entertainment']== 0) & (ndf['data_channel_is_bus']== 0)\n",
    "    & (ndf['data_channel_is_socmed']== 0) & (ndf['data_channel_is_tech']== 0) & (ndf['data_channel_is_world']== 0 )\n",
    "    ].shape[0]"
   ]
  },
  {
   "cell_type": "markdown",
   "metadata": {},
   "source": [
    "### Data Channel wise distribution of articles w.r.t shares"
   ]
  },
  {
   "cell_type": "code",
   "execution_count": 27,
   "metadata": {},
   "outputs": [
    {
     "data": {
      "image/png": "[encoded data removed]",
      "text/plain": [
       "<Figure size 1080x360 with 1 Axes>"
      ]
     },
     "metadata": {
      "needs_background": "light"
     },
     "output_type": "display_data"
    }
   ],
   "source": [
    "dc_shares = []\n",
    "\n",
    "# get shares for each dc\n",
    "for dc in data_channels:\n",
    "    dc_shares.append(ndf[ndf[dc]==1]['shares'].sum())\n",
    "\n",
    "# appending shares to existing dataframe\n",
    "dc_df['no_of_shares'] = dc_shares\n",
    "\n",
    "# calculating shares%\n",
    "dc_df['share%'] = dc_df['no_of_shares']/dc_df['no_of_shares'].sum()\n",
    "\n",
    "# sorting dataframe\n",
    "dc_df.sort_values(by='share%',ascending=False)\n",
    "\n",
    "# plot dc vs shares\n",
    "plt.figure(figsize=(15,5))\n",
    "sns.barplot(x=dc_df.index,y=dc_df['share%'])\n",
    "plt.show()\n",
    "\n"
   ]
  },
  {
   "cell_type": "code",
   "execution_count": 28,
   "metadata": {},
   "outputs": [
    {
     "data": {
      "image/png": "[encoded data removed]",
      "text/plain": [
       "<Figure size 432x288 with 1 Axes>"
      ]
     },
     "metadata": {},
     "output_type": "display_data"
    }
   ],
   "source": [
    "# plotting a pie chart to show contribution of dc in shares in %  \n",
    "\n",
    "labels = channels\n",
    "sizes = dc_df['share%']\n",
    "explode = (0, 0, 0, 0,0,0)  # only \"explode\" the 2nd slice (i.e. 'Hogs')\n",
    "\n",
    "fig1, ax1 = plt.subplots()\n",
    "theme = plt.get_cmap('YlOrRd')\n",
    "\n",
    "ax1.set_prop_cycle(\"color\", [theme(1. * i / len(sizes)) for i in range(len(sizes))])\n",
    "\n",
    "ax1.pie(sizes, explode=explode, labels=labels, autopct='%1.1f%%',shadow=True, startangle=90)\n",
    "\n",
    "ax1.axis('equal')  # Equal aspect ratio ensures that pie is drawn as a circle.\n",
    "\n",
    "plt.title('Contribution of each Data Channel to shares\\n')\n",
    "plt.show()"
   ]
  },
  {
   "cell_type": "markdown",
   "metadata": {},
   "source": [
    "## Inferences:\n",
    "    \n",
    "1. articles related to data channels like lifestyle,social media are very less\n",
    "2. other channels are having moderate no. of articles\n",
    "3. data channel world has maximum number of related articles\n"
   ]
  },
  {
   "cell_type": "markdown",
   "metadata": {},
   "source": [
    "### Data Channel wise Popularity of articles w.r.t categorical variable"
   ]
  },
  {
   "cell_type": "code",
   "execution_count": 29,
   "metadata": {},
   "outputs": [
    {
     "data": {
      "text/html": [
       "<div>\n",
       "<style scoped>\n",
       "    .dataframe tbody tr th:only-of-type {\n",
       "        vertical-align: middle;\n",
       "    }\n",
       "\n",
       "    .dataframe tbody tr th {\n",
       "        vertical-align: top;\n",
       "    }\n",
       "\n",
       "    .dataframe thead th {\n",
       "        text-align: right;\n",
       "    }\n",
       "</style>\n",
       "<table border=\"1\" class=\"dataframe\">\n",
       "  <thead>\n",
       "    <tr style=\"text-align: right;\">\n",
       "      <th></th>\n",
       "      <th>no_of_articles</th>\n",
       "      <th>no_of_shares</th>\n",
       "      <th>share%</th>\n",
       "      <th>popular</th>\n",
       "      <th>not_popular</th>\n",
       "      <th>popular%</th>\n",
       "      <th>overall%</th>\n",
       "      <th>overall_popularity%</th>\n",
       "    </tr>\n",
       "  </thead>\n",
       "  <tbody>\n",
       "    <tr>\n",
       "      <td>lifestyle</td>\n",
       "      <td>2099</td>\n",
       "      <td>7728777</td>\n",
       "      <td>0.078754</td>\n",
       "      <td>1200</td>\n",
       "      <td>899</td>\n",
       "      <td>0.571701</td>\n",
       "      <td>0.062638</td>\n",
       "      <td>0.075820</td>\n",
       "    </tr>\n",
       "    <tr>\n",
       "      <td>entertainment</td>\n",
       "      <td>7057</td>\n",
       "      <td>20962727</td>\n",
       "      <td>0.213603</td>\n",
       "      <td>2644</td>\n",
       "      <td>4413</td>\n",
       "      <td>0.374663</td>\n",
       "      <td>0.210594</td>\n",
       "      <td>0.167056</td>\n",
       "    </tr>\n",
       "    <tr>\n",
       "      <td>bus</td>\n",
       "      <td>6258</td>\n",
       "      <td>19168370</td>\n",
       "      <td>0.195319</td>\n",
       "      <td>3029</td>\n",
       "      <td>3229</td>\n",
       "      <td>0.484020</td>\n",
       "      <td>0.186750</td>\n",
       "      <td>0.191382</td>\n",
       "    </tr>\n",
       "    <tr>\n",
       "      <td>socmed</td>\n",
       "      <td>2323</td>\n",
       "      <td>8431057</td>\n",
       "      <td>0.085910</td>\n",
       "      <td>1659</td>\n",
       "      <td>664</td>\n",
       "      <td>0.714163</td>\n",
       "      <td>0.069323</td>\n",
       "      <td>0.104821</td>\n",
       "    </tr>\n",
       "    <tr>\n",
       "      <td>tech</td>\n",
       "      <td>7346</td>\n",
       "      <td>22568993</td>\n",
       "      <td>0.229970</td>\n",
       "      <td>4359</td>\n",
       "      <td>2987</td>\n",
       "      <td>0.593384</td>\n",
       "      <td>0.219218</td>\n",
       "      <td>0.275415</td>\n",
       "    </tr>\n",
       "    <tr>\n",
       "      <td>world</td>\n",
       "      <td>8427</td>\n",
       "      <td>19278735</td>\n",
       "      <td>0.196444</td>\n",
       "      <td>2936</td>\n",
       "      <td>5491</td>\n",
       "      <td>0.348404</td>\n",
       "      <td>0.251477</td>\n",
       "      <td>0.185506</td>\n",
       "    </tr>\n",
       "  </tbody>\n",
       "</table>\n",
       "</div>"
      ],
      "text/plain": [
       "               no_of_articles  no_of_shares    share%  popular  not_popular  \\\n",
       "lifestyle                2099       7728777  0.078754     1200          899   \n",
       "entertainment            7057      20962727  0.213603     2644         4413   \n",
       "bus                      6258      19168370  0.195319     3029         3229   \n",
       "socmed                   2323       8431057  0.085910     1659          664   \n",
       "tech                     7346      22568993  0.229970     4359         2987   \n",
       "world                    8427      19278735  0.196444     2936         5491   \n",
       "\n",
       "               popular%  overall%  overall_popularity%  \n",
       "lifestyle      0.571701  0.062638             0.075820  \n",
       "entertainment  0.374663  0.210594             0.167056  \n",
       "bus            0.484020  0.186750             0.191382  \n",
       "socmed         0.714163  0.069323             0.104821  \n",
       "tech           0.593384  0.219218             0.275415  \n",
       "world          0.348404  0.251477             0.185506  "
      ]
     },
     "execution_count": 29,
     "metadata": {},
     "output_type": "execute_result"
    }
   ],
   "source": [
    "# adding a new column class having values 0 and 1\n",
    "# depending upon the number of shares \n",
    "# as median value is 1400 dividing on the same - 1: shares>1400 | 0:shares<1400\n",
    "\n",
    "ndf['class'] = ndf['shares'].apply(lambda x: 1 if x>1400 else 0)\n",
    "\n",
    "ndf['class'].value_counts()\n",
    "\n",
    "\n",
    "popular_yes = []\n",
    "popular_no  = []\n",
    "\n",
    "# get number of popular and unpopular articles for each dc\n",
    "for dc in data_channels:\n",
    "    popular_yes.append(ndf[(ndf[dc]==1) & (ndf['class']==1)].shape[0])\n",
    "    popular_no.append(ndf[(ndf[dc]==1) & (ndf['class']==0)].shape[0])\n",
    "\n",
    "# calculating values and adding to existing dataframe\n",
    "dc_df['popular'] = popular_yes\n",
    "dc_df['not_popular'] = popular_no\n",
    "\n",
    "dc_df['popular%'] = dc_df['popular']/dc_df['no_of_articles']\n",
    "\n",
    "dc_df['overall%'] = dc_df['no_of_articles']/dc_df['no_of_articles'].sum()\n",
    "\n",
    "dc_df['overall_popularity%'] = dc_df['popular']/dc_df['popular'].sum()\n",
    "\n",
    "dc_df.sort_values(by='popular%',ascending=False)\n",
    "\n",
    "dc_df"
   ]
  },
  {
   "cell_type": "code",
   "execution_count": 33,
   "metadata": {},
   "outputs": [
    {
     "data": {
      "image/png": "[encoded data removed]",
      "text/plain": [
       "<Figure size 1080x360 with 1 Axes>"
      ]
     },
     "metadata": {
      "needs_background": "light"
     },
     "output_type": "display_data"
    }
   ],
   "source": [
    "plt.figure(figsize=(15,5))\n",
    "sns.barplot(x=dc_df.index,y=dc_df['popular%'])\n",
    "plt.title('Data Channelwise Popularity of Articles\\n')\n",
    "plt.show()"
   ]
  },
  {
   "cell_type": "code",
   "execution_count": 31,
   "metadata": {},
   "outputs": [
    {
     "data": {
      "image/png": "[encoded data removed]",
      "text/plain": [
       "<Figure size 432x288 with 1 Axes>"
      ]
     },
     "metadata": {},
     "output_type": "display_data"
    }
   ],
   "source": [
    "# plotting a pie chart to show popularity %  for each dc \n",
    "\n",
    "labels = channels\n",
    "sizes = dc_df['overall_popularity%']\n",
    "explode = (0, 0, 0, 0,0,0)  # only \"explode\" the 2nd slice (i.e. 'Hogs')\n",
    "\n",
    "fig1, ax1 = plt.subplots()\n",
    "theme = plt.get_cmap('YlOrBr')\n",
    "ax1.set_prop_cycle(\"color\", [theme(1. * i / len(sizes))\n",
    "                             for i in range(len(sizes))])\n",
    "ax1.pie(sizes, explode=explode, labels=labels, autopct='%1.1f%%',\n",
    "        shadow=True, startangle=90)\n",
    "ax1.axis('equal')  # Equal aspect ratio ensures that pie is drawn as a circle.\n",
    "plt.title('Overall Popularity of Articles\\n')\n",
    "plt.show()"
   ]
  },
  {
   "cell_type": "markdown",
   "metadata": {},
   "source": [
    "## Inferences: \n",
    "    \n",
    "1. The data channel world has very low popularity despite of having maximum number of articles\n",
    "\n",
    "2. Social media data channel has few articles but the popularity is high \n",
    "\n",
    "3. Lifestyle has very few articles having high popularity\n",
    "\n",
    "4. technology has considerable number of articles also, the popularity is high\n",
    "\n",
    "5. entertainment has good number of articles but not much popular\n",
    "\n",
    "6. business has considerable number of articles also, the popularity is not so good\n",
    "\n",
    "7. The world category has highest number of articles but contributes only 19% of the shares and gained popularity of 34% within the category. \n",
    "\n",
    "8. Lifestyle and social media categories have least number of articles. \n",
    "\n",
    "9. Even though social media category has less articles, it has managed to get high popularity of 71% within the category. \n",
    "\n",
    "10. About 6134 articles might be of some other category which is not mentioned in the dataset.\n",
    "\n",
    "11. Overall popularity of technology related articles is high about 27% as compared to popular articles of other categories\n",
    "\n",
    "12. Why shares of world related articles are less\n",
    "    - These articles are lengthy\n",
    "    - It also contains a large number of images and videos\n",
    "    - Also, links to differnet articles are too many\n",
    "    \n",
    "    This can be improved by:\n",
    "    - minimizing the imgs,videos, links  to an optimal number.\n",
    "    - Also, reducing the length of articles"
   ]
  },
  {
   "cell_type": "markdown",
   "metadata": {},
   "source": [
    "## Analysing Weekdays and Weekend\n",
    "\n",
    "### Weekday wise distribution of articles\n"
   ]
  },
  {
   "cell_type": "code",
   "execution_count": 98,
   "metadata": {},
   "outputs": [
    {
     "data": {
      "text/html": [
       "<div>\n",
       "<style scoped>\n",
       "    .dataframe tbody tr th:only-of-type {\n",
       "        vertical-align: middle;\n",
       "    }\n",
       "\n",
       "    .dataframe tbody tr th {\n",
       "        vertical-align: top;\n",
       "    }\n",
       "\n",
       "    .dataframe thead th {\n",
       "        text-align: right;\n",
       "    }\n",
       "</style>\n",
       "<table border=\"1\" class=\"dataframe\">\n",
       "  <thead>\n",
       "    <tr style=\"text-align: right;\">\n",
       "      <th></th>\n",
       "      <th>no_of_articles</th>\n",
       "    </tr>\n",
       "  </thead>\n",
       "  <tbody>\n",
       "    <tr>\n",
       "      <td>monday</td>\n",
       "      <td>6661</td>\n",
       "    </tr>\n",
       "    <tr>\n",
       "      <td>tuesday</td>\n",
       "      <td>7390</td>\n",
       "    </tr>\n",
       "    <tr>\n",
       "      <td>wednesday</td>\n",
       "      <td>7435</td>\n",
       "    </tr>\n",
       "    <tr>\n",
       "      <td>thursday</td>\n",
       "      <td>7267</td>\n",
       "    </tr>\n",
       "    <tr>\n",
       "      <td>friday</td>\n",
       "      <td>5701</td>\n",
       "    </tr>\n",
       "    <tr>\n",
       "      <td>saturday</td>\n",
       "      <td>2453</td>\n",
       "    </tr>\n",
       "    <tr>\n",
       "      <td>sunday</td>\n",
       "      <td>2737</td>\n",
       "    </tr>\n",
       "    <tr>\n",
       "      <td>weekend</td>\n",
       "      <td>5190</td>\n",
       "    </tr>\n",
       "  </tbody>\n",
       "</table>\n",
       "</div>"
      ],
      "text/plain": [
       "           no_of_articles\n",
       "monday               6661\n",
       "tuesday              7390\n",
       "wednesday            7435\n",
       "thursday             7267\n",
       "friday               5701\n",
       "saturday             2453\n",
       "sunday               2737\n",
       "weekend              5190"
      ]
     },
     "execution_count": 98,
     "metadata": {},
     "output_type": "execute_result"
    }
   ],
   "source": [
    "\n",
    "weekdays = ['weekday_is_monday','weekday_is_tuesday','weekday_is_wednesday',\n",
    "           'weekday_is_thursday','weekday_is_friday','weekday_is_saturday','weekday_is_sunday','is_weekend']\n",
    "\n",
    "day = ['monday','tuesday','wednesday','thursday','friday','saturday','sunday','weekend']\n",
    "\n",
    "no_of_articles = []\n",
    "\n",
    "for w in weekdays:\n",
    "    no_of_articles.append(ndf[ndf[w]==1][w].value_counts().values[0])\n",
    "\n",
    "w_df = pd.DataFrame(no_of_articles,index = day,columns=['no_of_articles'])\n",
    "w_df"
   ]
  },
  {
   "cell_type": "code",
   "execution_count": 99,
   "metadata": {},
   "outputs": [
    {
     "data": {
      "image/png": "[encoded data removed]",
      "text/plain": [
       "<Figure size 1080x360 with 1 Axes>"
      ]
     },
     "metadata": {
      "needs_background": "light"
     },
     "output_type": "display_data"
    }
   ],
   "source": [
    "plt.figure(figsize=(15,5))\n",
    "sns.barplot(x=w_df.index,y=w_df['no_of_articles'])\n",
    "plt.show()"
   ]
  },
  {
   "cell_type": "markdown",
   "metadata": {},
   "source": [
    "\n",
    "## Inferences: \n",
    "    \n",
    "1. least articles are published on saturday and sunday\n",
    "\n",
    "2. a good number of articles are published on weekdays in which tuesday,wednesday and thursday have high values\n",
    "\n",
    "3. considerable number of articles are published on weekends\n",
    "\n",
    "\n"
   ]
  },
  {
   "cell_type": "markdown",
   "metadata": {},
   "source": [
    "### Weekday wise distribution of articles w.r.t shares"
   ]
  },
  {
   "cell_type": "code",
   "execution_count": 100,
   "metadata": {},
   "outputs": [
    {
     "data": {
      "text/html": [
       "<div>\n",
       "<style scoped>\n",
       "    .dataframe tbody tr th:only-of-type {\n",
       "        vertical-align: middle;\n",
       "    }\n",
       "\n",
       "    .dataframe tbody tr th {\n",
       "        vertical-align: top;\n",
       "    }\n",
       "\n",
       "    .dataframe thead th {\n",
       "        text-align: right;\n",
       "    }\n",
       "</style>\n",
       "<table border=\"1\" class=\"dataframe\">\n",
       "  <thead>\n",
       "    <tr style=\"text-align: right;\">\n",
       "      <th></th>\n",
       "      <th>no_of_articles</th>\n",
       "      <th>no_of_shares</th>\n",
       "      <th>share%</th>\n",
       "    </tr>\n",
       "  </thead>\n",
       "  <tbody>\n",
       "    <tr>\n",
       "      <td>monday</td>\n",
       "      <td>6661</td>\n",
       "      <td>24292839</td>\n",
       "      <td>0.156865</td>\n",
       "    </tr>\n",
       "    <tr>\n",
       "      <td>tuesday</td>\n",
       "      <td>7390</td>\n",
       "      <td>23666480</td>\n",
       "      <td>0.152820</td>\n",
       "    </tr>\n",
       "    <tr>\n",
       "      <td>wednesday</td>\n",
       "      <td>7435</td>\n",
       "      <td>24560819</td>\n",
       "      <td>0.158595</td>\n",
       "    </tr>\n",
       "    <tr>\n",
       "      <td>thursday</td>\n",
       "      <td>7267</td>\n",
       "      <td>23098880</td>\n",
       "      <td>0.149155</td>\n",
       "    </tr>\n",
       "    <tr>\n",
       "      <td>friday</td>\n",
       "      <td>5701</td>\n",
       "      <td>18728817</td>\n",
       "      <td>0.120936</td>\n",
       "    </tr>\n",
       "    <tr>\n",
       "      <td>saturday</td>\n",
       "      <td>2453</td>\n",
       "      <td>10003788</td>\n",
       "      <td>0.064597</td>\n",
       "    </tr>\n",
       "    <tr>\n",
       "      <td>sunday</td>\n",
       "      <td>2737</td>\n",
       "      <td>10254829</td>\n",
       "      <td>0.066218</td>\n",
       "    </tr>\n",
       "    <tr>\n",
       "      <td>weekend</td>\n",
       "      <td>5190</td>\n",
       "      <td>20258617</td>\n",
       "      <td>0.130815</td>\n",
       "    </tr>\n",
       "  </tbody>\n",
       "</table>\n",
       "</div>"
      ],
      "text/plain": [
       "           no_of_articles  no_of_shares    share%\n",
       "monday               6661      24292839  0.156865\n",
       "tuesday              7390      23666480  0.152820\n",
       "wednesday            7435      24560819  0.158595\n",
       "thursday             7267      23098880  0.149155\n",
       "friday               5701      18728817  0.120936\n",
       "saturday             2453      10003788  0.064597\n",
       "sunday               2737      10254829  0.066218\n",
       "weekend              5190      20258617  0.130815"
      ]
     },
     "execution_count": 100,
     "metadata": {},
     "output_type": "execute_result"
    }
   ],
   "source": [
    "w_shares = []\n",
    "\n",
    "for w in weekdays:\n",
    "    w_shares.append(ndf[ndf[w]==1]['shares'].sum())\n",
    "\n",
    "w_df['no_of_shares'] = w_shares\n",
    "\n",
    "w_df['share%'] = w_df['no_of_shares']/w_df['no_of_shares'].sum()\n",
    "\n",
    "w_df.sort_values(by='share%',ascending=False)\n",
    "\n",
    "w_df\n"
   ]
  },
  {
   "cell_type": "code",
   "execution_count": 101,
   "metadata": {},
   "outputs": [
    {
     "data": {
      "image/png": "[encoded data removed]",
      "text/plain": [
       "<Figure size 1080x360 with 1 Axes>"
      ]
     },
     "metadata": {
      "needs_background": "light"
     },
     "output_type": "display_data"
    }
   ],
   "source": [
    "plt.figure(figsize=(15,5))\n",
    "sns.barplot(x=w_df.index,y=w_df['share%'])\n",
    "plt.show()"
   ]
  },
  {
   "cell_type": "markdown",
   "metadata": {},
   "source": [
    "## Inference:\n",
    "\n",
    "1. monday,tuesday,wednesday have almost equal shares\n",
    "2. thursday,friday,weekend are same shares\n",
    "3. saturday, sunday equal shares, also equal to weekend"
   ]
  },
  {
   "cell_type": "markdown",
   "metadata": {},
   "source": [
    "### Weekday wise Popularity of articles\n"
   ]
  },
  {
   "cell_type": "code",
   "execution_count": 102,
   "metadata": {},
   "outputs": [
    {
     "data": {
      "text/html": [
       "<div>\n",
       "<style scoped>\n",
       "    .dataframe tbody tr th:only-of-type {\n",
       "        vertical-align: middle;\n",
       "    }\n",
       "\n",
       "    .dataframe tbody tr th {\n",
       "        vertical-align: top;\n",
       "    }\n",
       "\n",
       "    .dataframe thead th {\n",
       "        text-align: right;\n",
       "    }\n",
       "</style>\n",
       "<table border=\"1\" class=\"dataframe\">\n",
       "  <thead>\n",
       "    <tr style=\"text-align: right;\">\n",
       "      <th></th>\n",
       "      <th>no_of_articles</th>\n",
       "      <th>no_of_shares</th>\n",
       "      <th>share%</th>\n",
       "      <th>popular</th>\n",
       "      <th>not_popular</th>\n",
       "      <th>popular%</th>\n",
       "      <th>overall%</th>\n",
       "      <th>overall_pop%</th>\n",
       "    </tr>\n",
       "  </thead>\n",
       "  <tbody>\n",
       "    <tr>\n",
       "      <td>monday</td>\n",
       "      <td>6661</td>\n",
       "      <td>24292839</td>\n",
       "      <td>0.156865</td>\n",
       "      <td>3140</td>\n",
       "      <td>3521</td>\n",
       "      <td>0.471401</td>\n",
       "      <td>0.148570</td>\n",
       "      <td>0.136267</td>\n",
       "    </tr>\n",
       "    <tr>\n",
       "      <td>tuesday</td>\n",
       "      <td>7390</td>\n",
       "      <td>23666480</td>\n",
       "      <td>0.152820</td>\n",
       "      <td>3359</td>\n",
       "      <td>4031</td>\n",
       "      <td>0.454533</td>\n",
       "      <td>0.164830</td>\n",
       "      <td>0.145771</td>\n",
       "    </tr>\n",
       "    <tr>\n",
       "      <td>wednesday</td>\n",
       "      <td>7435</td>\n",
       "      <td>24560819</td>\n",
       "      <td>0.158595</td>\n",
       "      <td>3335</td>\n",
       "      <td>4100</td>\n",
       "      <td>0.448554</td>\n",
       "      <td>0.165834</td>\n",
       "      <td>0.144729</td>\n",
       "    </tr>\n",
       "    <tr>\n",
       "      <td>thursday</td>\n",
       "      <td>7267</td>\n",
       "      <td>23098880</td>\n",
       "      <td>0.149155</td>\n",
       "      <td>3382</td>\n",
       "      <td>3885</td>\n",
       "      <td>0.465391</td>\n",
       "      <td>0.162087</td>\n",
       "      <td>0.146769</td>\n",
       "    </tr>\n",
       "    <tr>\n",
       "      <td>friday</td>\n",
       "      <td>5701</td>\n",
       "      <td>18728817</td>\n",
       "      <td>0.120936</td>\n",
       "      <td>2865</td>\n",
       "      <td>2836</td>\n",
       "      <td>0.502543</td>\n",
       "      <td>0.127158</td>\n",
       "      <td>0.124333</td>\n",
       "    </tr>\n",
       "    <tr>\n",
       "      <td>saturday</td>\n",
       "      <td>2453</td>\n",
       "      <td>10003788</td>\n",
       "      <td>0.064597</td>\n",
       "      <td>1720</td>\n",
       "      <td>733</td>\n",
       "      <td>0.701182</td>\n",
       "      <td>0.054713</td>\n",
       "      <td>0.074643</td>\n",
       "    </tr>\n",
       "    <tr>\n",
       "      <td>sunday</td>\n",
       "      <td>2737</td>\n",
       "      <td>10254829</td>\n",
       "      <td>0.066218</td>\n",
       "      <td>1761</td>\n",
       "      <td>976</td>\n",
       "      <td>0.643405</td>\n",
       "      <td>0.061047</td>\n",
       "      <td>0.076422</td>\n",
       "    </tr>\n",
       "    <tr>\n",
       "      <td>weekend</td>\n",
       "      <td>5190</td>\n",
       "      <td>20258617</td>\n",
       "      <td>0.130815</td>\n",
       "      <td>3481</td>\n",
       "      <td>1709</td>\n",
       "      <td>0.670713</td>\n",
       "      <td>0.115760</td>\n",
       "      <td>0.151065</td>\n",
       "    </tr>\n",
       "  </tbody>\n",
       "</table>\n",
       "</div>"
      ],
      "text/plain": [
       "           no_of_articles  no_of_shares    share%  popular  not_popular  \\\n",
       "monday               6661      24292839  0.156865     3140         3521   \n",
       "tuesday              7390      23666480  0.152820     3359         4031   \n",
       "wednesday            7435      24560819  0.158595     3335         4100   \n",
       "thursday             7267      23098880  0.149155     3382         3885   \n",
       "friday               5701      18728817  0.120936     2865         2836   \n",
       "saturday             2453      10003788  0.064597     1720          733   \n",
       "sunday               2737      10254829  0.066218     1761          976   \n",
       "weekend              5190      20258617  0.130815     3481         1709   \n",
       "\n",
       "           popular%  overall%  overall_pop%  \n",
       "monday     0.471401  0.148570      0.136267  \n",
       "tuesday    0.454533  0.164830      0.145771  \n",
       "wednesday  0.448554  0.165834      0.144729  \n",
       "thursday   0.465391  0.162087      0.146769  \n",
       "friday     0.502543  0.127158      0.124333  \n",
       "saturday   0.701182  0.054713      0.074643  \n",
       "sunday     0.643405  0.061047      0.076422  \n",
       "weekend    0.670713  0.115760      0.151065  "
      ]
     },
     "execution_count": 102,
     "metadata": {},
     "output_type": "execute_result"
    }
   ],
   "source": [
    "popular_yes = []\n",
    "popular_no  = []\n",
    "\n",
    "for w in weekdays:\n",
    "    popular_yes.append(ndf[(ndf[w]==1) & (ndf['class']==1)].shape[0])\n",
    "    popular_no.append(ndf[(ndf[w]==1) & (ndf['class']==0)].shape[0])\n",
    "\n",
    "w_df['popular'] = popular_yes\n",
    "\n",
    "w_df['not_popular'] = popular_no\n",
    "\n",
    "w_df['popular%'] = w_df['popular']/w_df['no_of_articles']\n",
    "\n",
    "w_df['overall%'] = w_df['no_of_articles']/w_df['no_of_articles'].sum()\n",
    "\n",
    "w_df['overall_pop%'] = w_df['popular']/w_df['popular'].sum()\n",
    "\n",
    "w_df.sort_values(by='popular%',ascending=False)\n",
    "\n",
    "w_df"
   ]
  },
  {
   "cell_type": "code",
   "execution_count": 103,
   "metadata": {},
   "outputs": [
    {
     "data": {
      "image/png": "[encoded data removed]",
      "text/plain": [
       "<Figure size 1080x360 with 1 Axes>"
      ]
     },
     "metadata": {
      "needs_background": "light"
     },
     "output_type": "display_data"
    }
   ],
   "source": [
    "plt.figure(figsize=(15,5))\n",
    "sns.barplot(x=w_df.index,y=w_df['overall_pop%'], order = w_df.index[::-1])\n",
    "plt.ylabel('Popularity (in %)')\n",
    "plt.title('Popularity of Articles published on Weekdays/Weekends\\n')\n",
    "plt.show()\n"
   ]
  },
  {
   "cell_type": "code",
   "execution_count": 104,
   "metadata": {},
   "outputs": [
    {
     "data": {
      "image/png": "[encoded data removed]",
      "text/plain": [
       "<Figure size 432x288 with 1 Axes>"
      ]
     },
     "metadata": {},
     "output_type": "display_data"
    }
   ],
   "source": [
    "day = ['monday','tuesday','wednesday','thursday','friday','saturday','sunday','weekend']\n",
    "\n",
    "labels = day\n",
    "sizes = w_df['overall_pop%']\n",
    "explode = (0, 0, 0, 0,0,0,0,0)  # only \"explode\" the 2nd slice (i.e. 'Hogs')\n",
    "\n",
    "fig1, ax1 = plt.subplots()\n",
    "theme = plt.get_cmap('YlOrRd')\n",
    "ax1.set_prop_cycle(\"color\", [theme(1. * i / len(sizes))\n",
    "                             for i in range(len(sizes))])\n",
    "ax1.pie(sizes, explode=explode, labels=labels, autopct='%1.1f%%',\n",
    "        shadow=True)\n",
    "ax1.axis('equal')  # Equal aspect ratio ensures that pie is drawn as a circle.\n",
    "plt.title('\\n')\n",
    "plt.show()\n"
   ]
  },
  {
   "cell_type": "markdown",
   "metadata": {},
   "source": [
    " "
   ]
  },
  {
   "cell_type": "markdown",
   "metadata": {},
   "source": [
    "## Distribution of Articles of various Data Channels w.r.t weekdays and weekends"
   ]
  },
  {
   "cell_type": "code",
   "execution_count": 115,
   "metadata": {},
   "outputs": [],
   "source": [
    "# adding weekday name for each article\n",
    "weekdays = ['weekday_is_monday','weekday_is_tuesday','weekday_is_wednesday',\n",
    "           'weekday_is_thursday','weekday_is_friday','weekday_is_saturday','weekday_is_sunday','is_weekend']\n",
    "\n",
    "day = ['monday','tuesday','wednesday','thursday','friday','saturday','sunday','weekend']\n",
    "\n",
    "for c,d in zip(weekdays,day):\n",
    "    ndf.loc[ndf[c]==1, 'days'] = d"
   ]
  },
  {
   "cell_type": "code",
   "execution_count": 116,
   "metadata": {},
   "outputs": [
    {
     "data": {
      "text/plain": [
       "wednesday    7435\n",
       "tuesday      7390\n",
       "thursday     7267\n",
       "monday       6661\n",
       "friday       5701\n",
       "weekend      5190\n",
       "Name: days, dtype: int64"
      ]
     },
     "execution_count": 116,
     "metadata": {},
     "output_type": "execute_result"
    }
   ],
   "source": [
    "ndf['days'].value_counts()"
   ]
  },
  {
   "cell_type": "code",
   "execution_count": 117,
   "metadata": {},
   "outputs": [
    {
     "data": {
      "image/png": "[encoded data removed]",
      "text/plain": [
       "<Figure size 1080x360 with 1 Axes>"
      ]
     },
     "metadata": {
      "needs_background": "light"
     },
     "output_type": "display_data"
    }
   ],
   "source": [
    "plt.figure(figsize = (15,5))\n",
    "ax = sns.countplot(ndf['data_ch'],  hue= ndf['days'], order = ndf['data_ch'].value_counts().index, palette = 'Paired' )\n",
    "plt.ylabel('Number of Articles')\n",
    "plt.xlabel('\\nData Channels')\n",
    "plt.title('Daywise Distribution of Articles of various Data Channels\\n')\n",
    "plt.show()"
   ]
  },
  {
   "cell_type": "markdown",
   "metadata": {},
   "source": [
    "## Yearwise Comparison of articles related to data channels"
   ]
  },
  {
   "cell_type": "code",
   "execution_count": 119,
   "metadata": {},
   "outputs": [
    {
     "data": {
      "text/html": [
       "<div>\n",
       "<style scoped>\n",
       "    .dataframe tbody tr th:only-of-type {\n",
       "        vertical-align: middle;\n",
       "    }\n",
       "\n",
       "    .dataframe tbody tr th {\n",
       "        vertical-align: top;\n",
       "    }\n",
       "\n",
       "    .dataframe thead th {\n",
       "        text-align: right;\n",
       "    }\n",
       "</style>\n",
       "<table border=\"1\" class=\"dataframe\">\n",
       "  <thead>\n",
       "    <tr style=\"text-align: right;\">\n",
       "      <th></th>\n",
       "      <th>url</th>\n",
       "      <th>timedelta</th>\n",
       "      <th>n_tokens_title</th>\n",
       "      <th>n_tokens_content</th>\n",
       "      <th>n_unique_tokens</th>\n",
       "      <th>n_non_stop_words</th>\n",
       "      <th>n_non_stop_unique_tokens</th>\n",
       "      <th>num_hrefs</th>\n",
       "      <th>num_self_hrefs</th>\n",
       "      <th>num_imgs</th>\n",
       "      <th>...</th>\n",
       "      <th>title_subjectivity</th>\n",
       "      <th>title_sentiment_polarity</th>\n",
       "      <th>abs_title_subjectivity</th>\n",
       "      <th>abs_title_sentiment_polarity</th>\n",
       "      <th>shares</th>\n",
       "      <th>topic</th>\n",
       "      <th>class</th>\n",
       "      <th>data_ch</th>\n",
       "      <th>days</th>\n",
       "      <th>date_published</th>\n",
       "    </tr>\n",
       "  </thead>\n",
       "  <tbody>\n",
       "    <tr>\n",
       "      <td>0</td>\n",
       "      <td>http://mashable.com/2013/01/07/amazon-instant-...</td>\n",
       "      <td>731.0</td>\n",
       "      <td>12.0</td>\n",
       "      <td>219.0</td>\n",
       "      <td>0.663594</td>\n",
       "      <td>1.0</td>\n",
       "      <td>0.815385</td>\n",
       "      <td>4.0</td>\n",
       "      <td>2.0</td>\n",
       "      <td>1.0</td>\n",
       "      <td>...</td>\n",
       "      <td>0.500000</td>\n",
       "      <td>-0.187500</td>\n",
       "      <td>0.000000</td>\n",
       "      <td>0.187500</td>\n",
       "      <td>593</td>\n",
       "      <td>LDA_00</td>\n",
       "      <td>0</td>\n",
       "      <td>entertainment</td>\n",
       "      <td>monday</td>\n",
       "      <td>2013/01/07</td>\n",
       "    </tr>\n",
       "    <tr>\n",
       "      <td>1</td>\n",
       "      <td>http://mashable.com/2013/01/07/ap-samsung-spon...</td>\n",
       "      <td>731.0</td>\n",
       "      <td>9.0</td>\n",
       "      <td>255.0</td>\n",
       "      <td>0.604743</td>\n",
       "      <td>1.0</td>\n",
       "      <td>0.791946</td>\n",
       "      <td>3.0</td>\n",
       "      <td>1.0</td>\n",
       "      <td>1.0</td>\n",
       "      <td>...</td>\n",
       "      <td>0.000000</td>\n",
       "      <td>0.000000</td>\n",
       "      <td>0.500000</td>\n",
       "      <td>0.000000</td>\n",
       "      <td>711</td>\n",
       "      <td>LDA_00</td>\n",
       "      <td>0</td>\n",
       "      <td>business</td>\n",
       "      <td>monday</td>\n",
       "      <td>2013/01/07</td>\n",
       "    </tr>\n",
       "    <tr>\n",
       "      <td>2</td>\n",
       "      <td>http://mashable.com/2013/01/07/apple-40-billio...</td>\n",
       "      <td>731.0</td>\n",
       "      <td>9.0</td>\n",
       "      <td>211.0</td>\n",
       "      <td>0.575130</td>\n",
       "      <td>1.0</td>\n",
       "      <td>0.663866</td>\n",
       "      <td>3.0</td>\n",
       "      <td>1.0</td>\n",
       "      <td>1.0</td>\n",
       "      <td>...</td>\n",
       "      <td>0.000000</td>\n",
       "      <td>0.000000</td>\n",
       "      <td>0.500000</td>\n",
       "      <td>0.000000</td>\n",
       "      <td>1500</td>\n",
       "      <td>LDA_04</td>\n",
       "      <td>1</td>\n",
       "      <td>business</td>\n",
       "      <td>monday</td>\n",
       "      <td>2013/01/07</td>\n",
       "    </tr>\n",
       "    <tr>\n",
       "      <td>3</td>\n",
       "      <td>http://mashable.com/2013/01/07/astronaut-notre...</td>\n",
       "      <td>731.0</td>\n",
       "      <td>9.0</td>\n",
       "      <td>531.0</td>\n",
       "      <td>0.503788</td>\n",
       "      <td>1.0</td>\n",
       "      <td>0.665635</td>\n",
       "      <td>9.0</td>\n",
       "      <td>0.0</td>\n",
       "      <td>1.0</td>\n",
       "      <td>...</td>\n",
       "      <td>0.000000</td>\n",
       "      <td>0.000000</td>\n",
       "      <td>0.500000</td>\n",
       "      <td>0.000000</td>\n",
       "      <td>1200</td>\n",
       "      <td>LDA_02</td>\n",
       "      <td>0</td>\n",
       "      <td>entertainment</td>\n",
       "      <td>monday</td>\n",
       "      <td>2013/01/07</td>\n",
       "    </tr>\n",
       "    <tr>\n",
       "      <td>4</td>\n",
       "      <td>http://mashable.com/2013/01/07/att-u-verse-apps/</td>\n",
       "      <td>731.0</td>\n",
       "      <td>13.0</td>\n",
       "      <td>1072.0</td>\n",
       "      <td>0.415646</td>\n",
       "      <td>1.0</td>\n",
       "      <td>0.540890</td>\n",
       "      <td>19.0</td>\n",
       "      <td>19.0</td>\n",
       "      <td>20.0</td>\n",
       "      <td>...</td>\n",
       "      <td>0.454545</td>\n",
       "      <td>0.136364</td>\n",
       "      <td>0.045455</td>\n",
       "      <td>0.136364</td>\n",
       "      <td>505</td>\n",
       "      <td>LDA_04</td>\n",
       "      <td>0</td>\n",
       "      <td>tech</td>\n",
       "      <td>monday</td>\n",
       "      <td>2013/01/07</td>\n",
       "    </tr>\n",
       "  </tbody>\n",
       "</table>\n",
       "<p>5 rows × 66 columns</p>\n",
       "</div>"
      ],
      "text/plain": [
       "                                                 url  timedelta  \\\n",
       "0  http://mashable.com/2013/01/07/amazon-instant-...      731.0   \n",
       "1  http://mashable.com/2013/01/07/ap-samsung-spon...      731.0   \n",
       "2  http://mashable.com/2013/01/07/apple-40-billio...      731.0   \n",
       "3  http://mashable.com/2013/01/07/astronaut-notre...      731.0   \n",
       "4   http://mashable.com/2013/01/07/att-u-verse-apps/      731.0   \n",
       "\n",
       "   n_tokens_title  n_tokens_content  n_unique_tokens  n_non_stop_words  \\\n",
       "0            12.0             219.0         0.663594               1.0   \n",
       "1             9.0             255.0         0.604743               1.0   \n",
       "2             9.0             211.0         0.575130               1.0   \n",
       "3             9.0             531.0         0.503788               1.0   \n",
       "4            13.0            1072.0         0.415646               1.0   \n",
       "\n",
       "   n_non_stop_unique_tokens  num_hrefs  num_self_hrefs  num_imgs  ...  \\\n",
       "0                  0.815385        4.0             2.0       1.0  ...   \n",
       "1                  0.791946        3.0             1.0       1.0  ...   \n",
       "2                  0.663866        3.0             1.0       1.0  ...   \n",
       "3                  0.665635        9.0             0.0       1.0  ...   \n",
       "4                  0.540890       19.0            19.0      20.0  ...   \n",
       "\n",
       "   title_subjectivity  title_sentiment_polarity  abs_title_subjectivity  \\\n",
       "0            0.500000                 -0.187500                0.000000   \n",
       "1            0.000000                  0.000000                0.500000   \n",
       "2            0.000000                  0.000000                0.500000   \n",
       "3            0.000000                  0.000000                0.500000   \n",
       "4            0.454545                  0.136364                0.045455   \n",
       "\n",
       "   abs_title_sentiment_polarity  shares   topic  class        data_ch    days  \\\n",
       "0                      0.187500     593  LDA_00      0  entertainment  monday   \n",
       "1                      0.000000     711  LDA_00      0       business  monday   \n",
       "2                      0.000000    1500  LDA_04      1       business  monday   \n",
       "3                      0.000000    1200  LDA_02      0  entertainment  monday   \n",
       "4                      0.136364     505  LDA_04      0           tech  monday   \n",
       "\n",
       "   date_published  \n",
       "0      2013/01/07  \n",
       "1      2013/01/07  \n",
       "2      2013/01/07  \n",
       "3      2013/01/07  \n",
       "4      2013/01/07  \n",
       "\n",
       "[5 rows x 66 columns]"
      ]
     },
     "execution_count": 119,
     "metadata": {},
     "output_type": "execute_result"
    }
   ],
   "source": [
    "import re\n",
    "\n",
    "# extracting date from the url variable\n",
    "ndf['date_published'] = ndf['url'].apply(lambda x: (re.search(r\"[0-9].../[0-9]./[0-9].\",x)).group())\n",
    "\n",
    "ndf.head()"
   ]
  },
  {
   "cell_type": "code",
   "execution_count": 120,
   "metadata": {},
   "outputs": [
    {
     "data": {
      "text/plain": [
       "count          39644\n",
       "unique           720\n",
       "top       2014/10/09\n",
       "freq             105\n",
       "Name: date_published, dtype: object"
      ]
     },
     "execution_count": 120,
     "metadata": {},
     "output_type": "execute_result"
    }
   ],
   "source": [
    "ndf['date_published'].describe()"
   ]
  },
  {
   "cell_type": "code",
   "execution_count": 121,
   "metadata": {},
   "outputs": [],
   "source": [
    "# converting date to datetime \n",
    "ndf['date_published'] = pd.to_datetime(ndf['date_published'])\n",
    "\n",
    "# get year from the date\n",
    "ndf['year']=pd.DatetimeIndex(ndf['date_published']).year"
   ]
  },
  {
   "cell_type": "code",
   "execution_count": 122,
   "metadata": {},
   "outputs": [],
   "source": [
    "ndf['year'] = ndf['year'].astype('object')"
   ]
  },
  {
   "cell_type": "code",
   "execution_count": 73,
   "metadata": {},
   "outputs": [
    {
     "data": {
      "text/html": [
       "<div>\n",
       "<style scoped>\n",
       "    .dataframe tbody tr th:only-of-type {\n",
       "        vertical-align: middle;\n",
       "    }\n",
       "\n",
       "    .dataframe tbody tr th {\n",
       "        vertical-align: top;\n",
       "    }\n",
       "\n",
       "    .dataframe thead th {\n",
       "        text-align: right;\n",
       "    }\n",
       "</style>\n",
       "<table border=\"1\" class=\"dataframe\">\n",
       "  <thead>\n",
       "    <tr style=\"text-align: right;\">\n",
       "      <th></th>\n",
       "      <th>2013</th>\n",
       "      <th>2014</th>\n",
       "      <th>shares_2013</th>\n",
       "      <th>shares_2014</th>\n",
       "    </tr>\n",
       "  </thead>\n",
       "  <tbody>\n",
       "    <tr>\n",
       "      <td>lifestyle</td>\n",
       "      <td>1191</td>\n",
       "      <td>908</td>\n",
       "      <td>3653.984047</td>\n",
       "      <td>3719.033040</td>\n",
       "    </tr>\n",
       "    <tr>\n",
       "      <td>entertainment</td>\n",
       "      <td>2862</td>\n",
       "      <td>4195</td>\n",
       "      <td>3009.380853</td>\n",
       "      <td>2943.952086</td>\n",
       "    </tr>\n",
       "    <tr>\n",
       "      <td>bus</td>\n",
       "      <td>3194</td>\n",
       "      <td>3064</td>\n",
       "      <td>3103.558234</td>\n",
       "      <td>3020.758812</td>\n",
       "    </tr>\n",
       "    <tr>\n",
       "      <td>socmed</td>\n",
       "      <td>1369</td>\n",
       "      <td>954</td>\n",
       "      <td>3827.037253</td>\n",
       "      <td>3345.747379</td>\n",
       "    </tr>\n",
       "    <tr>\n",
       "      <td>tech</td>\n",
       "      <td>3942</td>\n",
       "      <td>3404</td>\n",
       "      <td>2998.702689</td>\n",
       "      <td>3157.493243</td>\n",
       "    </tr>\n",
       "    <tr>\n",
       "      <td>world</td>\n",
       "      <td>2634</td>\n",
       "      <td>5793</td>\n",
       "      <td>2349.045558</td>\n",
       "      <td>2259.856551</td>\n",
       "    </tr>\n",
       "  </tbody>\n",
       "</table>\n",
       "</div>"
      ],
      "text/plain": [
       "               2013  2014  shares_2013  shares_2014\n",
       "lifestyle      1191   908  3653.984047  3719.033040\n",
       "entertainment  2862  4195  3009.380853  2943.952086\n",
       "bus            3194  3064  3103.558234  3020.758812\n",
       "socmed         1369   954  3827.037253  3345.747379\n",
       "tech           3942  3404  2998.702689  3157.493243\n",
       "world          2634  5793  2349.045558  2259.856551"
      ]
     },
     "execution_count": 73,
     "metadata": {},
     "output_type": "execute_result"
    }
   ],
   "source": [
    "# calculating number of articles and shrares for each dc and year\n",
    "\n",
    "channels = ['lifestyle','entertainment','bus','socmed','tech','world']\n",
    "data_channels = ['data_channel_is_lifestyle', 'data_channel_is_entertainment',\n",
    "                 'data_channel_is_bus','data_channel_is_socmed','data_channel_is_tech','data_channel_is_world']\n",
    "\n",
    "n_art_13= []\n",
    "n_art_14= []\n",
    "n_shares_13 = []\n",
    "n_shares_14 = []\n",
    "\n",
    "for dc in data_channels:\n",
    "    n_art_13.append(ndf[(ndf['year']==2013)][dc].value_counts().values[1])\n",
    "    n_art_14.append(ndf[(ndf['year']==2014)][dc].value_counts().values[1])\n",
    "    n_shares_13.append(ndf[(ndf['year']==2013) & (ndf[dc]==1)]['shares'].mean())\n",
    "    n_shares_14.append(ndf[(ndf['year']==2014) & (ndf[dc]==1)]['shares'].mean())\n",
    "\n",
    "ydf_dc = pd.DataFrame({\n",
    "            \n",
    "            '2013': n_art_13,\n",
    "            '2014': n_art_14,\n",
    "            'shares_2013': n_shares_13,\n",
    "            'shares_2014': n_shares_14\n",
    "        },index=channels)\n",
    "\n",
    "ydf_dc"
   ]
  },
  {
   "cell_type": "code",
   "execution_count": 74,
   "metadata": {},
   "outputs": [
    {
     "data": {
      "image/png": "[encoded data removed]",
      "text/plain": [
       "<Figure size 432x288 with 1 Axes>"
      ]
     },
     "metadata": {
      "needs_background": "light"
     },
     "output_type": "display_data"
    }
   ],
   "source": [
    "ydf_dc[['2013','2014']].plot(kind='barh')\n",
    "plt.title('Yearwise Comparison of Data Channels\\n')\n",
    "plt.xlabel('Number of Articles')\n",
    "plt.show()\n"
   ]
  },
  {
   "cell_type": "code",
   "execution_count": 75,
   "metadata": {},
   "outputs": [
    {
     "data": {
      "image/png": "[encoded data removed]",
      "text/plain": [
       "<Figure size 432x288 with 1 Axes>"
      ]
     },
     "metadata": {
      "needs_background": "light"
     },
     "output_type": "display_data"
    }
   ],
   "source": [
    "\n",
    "ydf_dc[['shares_2013','shares_2014']].plot(kind = 'barh')\n",
    "plt.title('Yearwise Comparison of Average Shares of Data Channels\\n')\n",
    "plt.xlabel('Number of Shares')\n",
    "plt.show()\n"
   ]
  },
  {
   "cell_type": "markdown",
   "metadata": {},
   "source": [
    "## Inferences:\n",
    "\n",
    "\n",
    "1. The articles published on saturdays and sundays or weekends seem to have more chances of becoming popular\n",
    "\n",
    "2. The articles published on other days get considerable amount of popularity\n",
    "\n",
    "3. So, to gain more popularity the number of articles published on weekends should be increased\n",
    "\n",
    "4. lifestyle - mostly published on weekend,wednesday,thursday\n",
    "\n",
    "5. entertainment - monday,wednesday,tuesday\n",
    "\n",
    "6. business - wednesday,thursday,tuesday\n",
    "\n",
    "7. social media - tuesday,wednesday,thursday\n",
    "\n",
    "8. technology - tuesday,wednesday,thursday\n",
    "\n",
    "9. world - wednesday,thursday,tuesday\n",
    "\n",
    "10. Most of the articles are published on wednesday,thursday,tuesday\n",
    "\n",
    "11. for each type of article, Saturday and sunday observed the least number of publications\n",
    "\n",
    "12. on weekends articles published for all data channels is low except Lifestyle \n",
    "\n",
    "13. As it is observed that, weekend articles get more popularity, the articles should be published on that day\n",
    "\n",
    "14. The articles published on weekdays (Monday, Tuesday and Wednesday) contribute an equal number of shares of 15%.\n",
    "15. About 67% articles are popular among the articles that are published on weekends \n",
    "16. Articles of each data channel observed the least number of releases on weekends except Lifestyle \n",
    "17. The overall popularity of weekend articles is 15% among all the popular articles published on weekdays\n",
    "\n",
    "\n",
    "18. For Yearwise comparision\n",
    "    - The data channels world and entertainment observed a drastic increase in the number of articles published in the year 2014 as compared to 2013. \n",
    "    - Lifestyle and social media data channels have the highest average shares for both the years even though there is significant increase and decrease in average shares for the year 2014 respectively. \n",
    "    - The average shares for world data channel dropped in the year 2014 in spite of increase in the number of articles. \n",
    "    - We can say that, increasing the number of articles for a particular data channel does not contribute towards increase in number of shares or popularity.\n"
   ]
  },
  {
   "cell_type": "code",
   "execution_count": null,
   "metadata": {},
   "outputs": [],
   "source": []
  },
  {
   "cell_type": "code",
   "execution_count": null,
   "metadata": {},
   "outputs": [],
   "source": []
  },
  {
   "cell_type": "markdown",
   "metadata": {},
   "source": [
    "##  Multicollinearity Check"
   ]
  },
  {
   "cell_type": "code",
   "execution_count": null,
   "metadata": {},
   "outputs": [],
   "source": [
    "### Get the highly correlated features\n",
    "\n",
    "corr_val = df.corr()\n",
    "\n",
    "correlated_features = set()\n",
    "correlation_matrix = corr_val.drop('class', axis=1).corr()\n",
    "\n",
    "for i in range(len(correlation_matrix.columns)):\n",
    "    for j in range(i):\n",
    "        if abs(correlation_matrix.iloc[i, j]) > 0.9:\n",
    "            colname = correlation_matrix.columns[i]\n",
    "            correlated_features.add(correlation_matrix.columns[j])\n",
    "            correlated_features.add(colname)\n",
    "            \n",
    "print(len(correlated_features))"
   ]
  },
  {
   "cell_type": "code",
   "execution_count": null,
   "metadata": {},
   "outputs": [],
   "source": [
    "mask = np.zeros_like(df[correlated_features].corr(), dtype=np.bool)\n",
    "mask[np.triu_indices_from(mask)] = True\n",
    "\n",
    "plt.figure(figsize = (20,10))\n",
    "ax = sns.heatmap(df[correlated_features].corr(), annot = True,mask = mask)\n",
    "bottom,top = ax.get_ylim()\n",
    "ax.set_ylim(bottom + 0.5, top - 0.5)\n",
    "plt.show()"
   ]
  },
  {
   "cell_type": "code",
   "execution_count": null,
   "metadata": {},
   "outputs": [],
   "source": []
  },
  {
   "cell_type": "code",
   "execution_count": null,
   "metadata": {},
   "outputs": [],
   "source": []
  },
  {
   "cell_type": "markdown",
   "metadata": {},
   "source": [
    "## Checking presence of outliers"
   ]
  },
  {
   "cell_type": "code",
   "execution_count": 27,
   "metadata": {},
   "outputs": [],
   "source": [
    "unique_dict = {i:len(list(ndf[i].unique())) for i in cols}\n",
    "sel_col = []\n",
    "for i,k in unique_dict.items():\n",
    "    if k > 2:\n",
    "        sel_col.append(i)"
   ]
  },
  {
   "cell_type": "code",
   "execution_count": 26,
   "metadata": {},
   "outputs": [
    {
     "data": {
      "text/html": [
       "<div>\n",
       "<style scoped>\n",
       "    .dataframe tbody tr th:only-of-type {\n",
       "        vertical-align: middle;\n",
       "    }\n",
       "\n",
       "    .dataframe tbody tr th {\n",
       "        vertical-align: top;\n",
       "    }\n",
       "\n",
       "    .dataframe thead th {\n",
       "        text-align: right;\n",
       "    }\n",
       "</style>\n",
       "<table border=\"1\" class=\"dataframe\">\n",
       "  <thead>\n",
       "    <tr style=\"text-align: right;\">\n",
       "      <th></th>\n",
       "      <th>features</th>\n",
       "      <th>upper_limit</th>\n",
       "      <th>lower_limit</th>\n",
       "      <th>count</th>\n",
       "    </tr>\n",
       "  </thead>\n",
       "  <tbody>\n",
       "    <tr>\n",
       "      <td>0</td>\n",
       "      <td>n_tokens_title</td>\n",
       "      <td>16.500000</td>\n",
       "      <td>4.500000e+00</td>\n",
       "      <td>156</td>\n",
       "    </tr>\n",
       "    <tr>\n",
       "      <td>1</td>\n",
       "      <td>n_tokens_content</td>\n",
       "      <td>1421.000000</td>\n",
       "      <td>-4.590000e+02</td>\n",
       "      <td>1933</td>\n",
       "    </tr>\n",
       "    <tr>\n",
       "      <td>2</td>\n",
       "      <td>n_unique_tokens</td>\n",
       "      <td>0.815433</td>\n",
       "      <td>2.641326e-01</td>\n",
       "      <td>1604</td>\n",
       "    </tr>\n",
       "    <tr>\n",
       "      <td>3</td>\n",
       "      <td>n_non_stop_words</td>\n",
       "      <td>1.000000</td>\n",
       "      <td>1.000000e+00</td>\n",
       "      <td>2827</td>\n",
       "    </tr>\n",
       "    <tr>\n",
       "      <td>4</td>\n",
       "      <td>n_non_stop_unique_tokens</td>\n",
       "      <td>0.947965</td>\n",
       "      <td>4.324041e-01</td>\n",
       "      <td>1733</td>\n",
       "    </tr>\n",
       "    <tr>\n",
       "      <td>5</td>\n",
       "      <td>num_hrefs</td>\n",
       "      <td>29.000000</td>\n",
       "      <td>-1.100000e+01</td>\n",
       "      <td>2169</td>\n",
       "    </tr>\n",
       "    <tr>\n",
       "      <td>6</td>\n",
       "      <td>num_self_hrefs</td>\n",
       "      <td>8.500000</td>\n",
       "      <td>-3.500000e+00</td>\n",
       "      <td>2090</td>\n",
       "    </tr>\n",
       "    <tr>\n",
       "      <td>7</td>\n",
       "      <td>num_imgs</td>\n",
       "      <td>8.500000</td>\n",
       "      <td>-3.500000e+00</td>\n",
       "      <td>7703</td>\n",
       "    </tr>\n",
       "    <tr>\n",
       "      <td>8</td>\n",
       "      <td>num_videos</td>\n",
       "      <td>2.500000</td>\n",
       "      <td>-1.500000e+00</td>\n",
       "      <td>2946</td>\n",
       "    </tr>\n",
       "    <tr>\n",
       "      <td>9</td>\n",
       "      <td>average_token_length</td>\n",
       "      <td>5.419491</td>\n",
       "      <td>3.913752e+00</td>\n",
       "      <td>1681</td>\n",
       "    </tr>\n",
       "    <tr>\n",
       "      <td>10</td>\n",
       "      <td>num_keywords</td>\n",
       "      <td>13.500000</td>\n",
       "      <td>1.500000e+00</td>\n",
       "      <td>51</td>\n",
       "    </tr>\n",
       "    <tr>\n",
       "      <td>11</td>\n",
       "      <td>kw_min_min</td>\n",
       "      <td>11.500000</td>\n",
       "      <td>-8.500000e+00</td>\n",
       "      <td>4677</td>\n",
       "    </tr>\n",
       "    <tr>\n",
       "      <td>12</td>\n",
       "      <td>kw_max_min</td>\n",
       "      <td>1832.500000</td>\n",
       "      <td>-3.875000e+02</td>\n",
       "      <td>3661</td>\n",
       "    </tr>\n",
       "    <tr>\n",
       "      <td>13</td>\n",
       "      <td>kw_avg_min</td>\n",
       "      <td>679.875000</td>\n",
       "      <td>-1.811250e+02</td>\n",
       "      <td>2081</td>\n",
       "    </tr>\n",
       "    <tr>\n",
       "      <td>14</td>\n",
       "      <td>kw_min_max</td>\n",
       "      <td>19750.000000</td>\n",
       "      <td>-1.185000e+04</td>\n",
       "      <td>5063</td>\n",
       "    </tr>\n",
       "    <tr>\n",
       "      <td>15</td>\n",
       "      <td>kw_max_max</td>\n",
       "      <td>843300.000000</td>\n",
       "      <td>8.433000e+05</td>\n",
       "      <td>9440</td>\n",
       "    </tr>\n",
       "    <tr>\n",
       "      <td>16</td>\n",
       "      <td>kw_avg_max</td>\n",
       "      <td>568179.687500</td>\n",
       "      <td>-6.435281e+04</td>\n",
       "      <td>960</td>\n",
       "    </tr>\n",
       "    <tr>\n",
       "      <td>17</td>\n",
       "      <td>kw_min_avg</td>\n",
       "      <td>5141.952579</td>\n",
       "      <td>-3.085172e+03</td>\n",
       "      <td>0</td>\n",
       "    </tr>\n",
       "    <tr>\n",
       "      <td>18</td>\n",
       "      <td>kw_max_avg</td>\n",
       "      <td>9706.732474</td>\n",
       "      <td>-1.246769e+02</td>\n",
       "      <td>2391</td>\n",
       "    </tr>\n",
       "    <tr>\n",
       "      <td>19</td>\n",
       "      <td>kw_avg_avg</td>\n",
       "      <td>5426.901062</td>\n",
       "      <td>5.557771e+02</td>\n",
       "      <td>1629</td>\n",
       "    </tr>\n",
       "    <tr>\n",
       "      <td>20</td>\n",
       "      <td>self_reference_min_shares</td>\n",
       "      <td>5541.500000</td>\n",
       "      <td>-2.302500e+03</td>\n",
       "      <td>4976</td>\n",
       "    </tr>\n",
       "    <tr>\n",
       "      <td>21</td>\n",
       "      <td>self_reference_max_shares</td>\n",
       "      <td>18350.000000</td>\n",
       "      <td>-9.250000e+03</td>\n",
       "      <td>4183</td>\n",
       "    </tr>\n",
       "    <tr>\n",
       "      <td>22</td>\n",
       "      <td>self_reference_avg_shares</td>\n",
       "      <td>11528.218750</td>\n",
       "      <td>-5.347031e+03</td>\n",
       "      <td>4209</td>\n",
       "    </tr>\n",
       "    <tr>\n",
       "      <td>23</td>\n",
       "      <td>LDA_00</td>\n",
       "      <td>0.564819</td>\n",
       "      <td>-2.988107e-01</td>\n",
       "      <td>5282</td>\n",
       "    </tr>\n",
       "    <tr>\n",
       "      <td>24</td>\n",
       "      <td>LDA_01</td>\n",
       "      <td>0.339560</td>\n",
       "      <td>-1.637161e-01</td>\n",
       "      <td>5834</td>\n",
       "    </tr>\n",
       "    <tr>\n",
       "      <td>25</td>\n",
       "      <td>LDA_02</td>\n",
       "      <td>0.792688</td>\n",
       "      <td>-4.298982e-01</td>\n",
       "      <td>3541</td>\n",
       "    </tr>\n",
       "    <tr>\n",
       "      <td>26</td>\n",
       "      <td>LDA_03</td>\n",
       "      <td>0.896549</td>\n",
       "      <td>-4.922152e-01</td>\n",
       "      <td>1075</td>\n",
       "    </tr>\n",
       "    <tr>\n",
       "      <td>27</td>\n",
       "      <td>LDA_04</td>\n",
       "      <td>0.957104</td>\n",
       "      <td>-5.285445e-01</td>\n",
       "      <td>0</td>\n",
       "    </tr>\n",
       "    <tr>\n",
       "      <td>28</td>\n",
       "      <td>global_subjectivity</td>\n",
       "      <td>0.676583</td>\n",
       "      <td>2.279167e-01</td>\n",
       "      <td>1912</td>\n",
       "    </tr>\n",
       "    <tr>\n",
       "      <td>29</td>\n",
       "      <td>global_sentiment_polarity</td>\n",
       "      <td>0.357944</td>\n",
       "      <td>-1.223549e-01</td>\n",
       "      <td>825</td>\n",
       "    </tr>\n",
       "    <tr>\n",
       "      <td>30</td>\n",
       "      <td>global_rate_positive_words</td>\n",
       "      <td>0.083122</td>\n",
       "      <td>-4.458296e-03</td>\n",
       "      <td>497</td>\n",
       "    </tr>\n",
       "    <tr>\n",
       "      <td>31</td>\n",
       "      <td>global_rate_negative_words</td>\n",
       "      <td>0.039925</td>\n",
       "      <td>-8.570234e-03</td>\n",
       "      <td>1324</td>\n",
       "    </tr>\n",
       "    <tr>\n",
       "      <td>32</td>\n",
       "      <td>rate_positive_words</td>\n",
       "      <td>1.100000</td>\n",
       "      <td>3.000000e-01</td>\n",
       "      <td>1594</td>\n",
       "    </tr>\n",
       "    <tr>\n",
       "      <td>33</td>\n",
       "      <td>rate_negative_words</td>\n",
       "      <td>0.683761</td>\n",
       "      <td>-1.139601e-01</td>\n",
       "      <td>494</td>\n",
       "    </tr>\n",
       "    <tr>\n",
       "      <td>34</td>\n",
       "      <td>avg_positive_polarity</td>\n",
       "      <td>0.569204</td>\n",
       "      <td>1.484671e-01</td>\n",
       "      <td>2095</td>\n",
       "    </tr>\n",
       "    <tr>\n",
       "      <td>35</td>\n",
       "      <td>min_positive_polarity</td>\n",
       "      <td>0.175000</td>\n",
       "      <td>-2.500000e-02</td>\n",
       "      <td>3147</td>\n",
       "    </tr>\n",
       "    <tr>\n",
       "      <td>36</td>\n",
       "      <td>max_positive_polarity</td>\n",
       "      <td>1.600000</td>\n",
       "      <td>-1.110223e-16</td>\n",
       "      <td>0</td>\n",
       "    </tr>\n",
       "    <tr>\n",
       "      <td>37</td>\n",
       "      <td>avg_negative_polarity</td>\n",
       "      <td>0.025312</td>\n",
       "      <td>-5.405993e-01</td>\n",
       "      <td>865</td>\n",
       "    </tr>\n",
       "    <tr>\n",
       "      <td>38</td>\n",
       "      <td>min_negative_polarity</td>\n",
       "      <td>0.300000</td>\n",
       "      <td>-1.300000e+00</td>\n",
       "      <td>0</td>\n",
       "    </tr>\n",
       "    <tr>\n",
       "      <td>39</td>\n",
       "      <td>max_negative_polarity</td>\n",
       "      <td>0.062500</td>\n",
       "      <td>-2.375000e-01</td>\n",
       "      <td>2454</td>\n",
       "    </tr>\n",
       "    <tr>\n",
       "      <td>40</td>\n",
       "      <td>title_subjectivity</td>\n",
       "      <td>1.250000</td>\n",
       "      <td>-7.500000e-01</td>\n",
       "      <td>0</td>\n",
       "    </tr>\n",
       "    <tr>\n",
       "      <td>41</td>\n",
       "      <td>title_sentiment_polarity</td>\n",
       "      <td>0.375000</td>\n",
       "      <td>-2.250000e-01</td>\n",
       "      <td>7592</td>\n",
       "    </tr>\n",
       "    <tr>\n",
       "      <td>42</td>\n",
       "      <td>abs_title_subjectivity</td>\n",
       "      <td>1.000000</td>\n",
       "      <td>-3.333333e-01</td>\n",
       "      <td>0</td>\n",
       "    </tr>\n",
       "    <tr>\n",
       "      <td>43</td>\n",
       "      <td>abs_title_sentiment_polarity</td>\n",
       "      <td>0.625000</td>\n",
       "      <td>-3.750000e-01</td>\n",
       "      <td>1655</td>\n",
       "    </tr>\n",
       "    <tr>\n",
       "      <td>44</td>\n",
       "      <td>shares</td>\n",
       "      <td>5581.000000</td>\n",
       "      <td>-1.835000e+03</td>\n",
       "      <td>4541</td>\n",
       "    </tr>\n",
       "  </tbody>\n",
       "</table>\n",
       "</div>"
      ],
      "text/plain": [
       "                        features    upper_limit   lower_limit  count\n",
       "0                 n_tokens_title      16.500000  4.500000e+00    156\n",
       "1               n_tokens_content    1421.000000 -4.590000e+02   1933\n",
       "2                n_unique_tokens       0.815433  2.641326e-01   1604\n",
       "3               n_non_stop_words       1.000000  1.000000e+00   2827\n",
       "4       n_non_stop_unique_tokens       0.947965  4.324041e-01   1733\n",
       "5                      num_hrefs      29.000000 -1.100000e+01   2169\n",
       "6                 num_self_hrefs       8.500000 -3.500000e+00   2090\n",
       "7                       num_imgs       8.500000 -3.500000e+00   7703\n",
       "8                     num_videos       2.500000 -1.500000e+00   2946\n",
       "9           average_token_length       5.419491  3.913752e+00   1681\n",
       "10                  num_keywords      13.500000  1.500000e+00     51\n",
       "11                    kw_min_min      11.500000 -8.500000e+00   4677\n",
       "12                    kw_max_min    1832.500000 -3.875000e+02   3661\n",
       "13                    kw_avg_min     679.875000 -1.811250e+02   2081\n",
       "14                    kw_min_max   19750.000000 -1.185000e+04   5063\n",
       "15                    kw_max_max  843300.000000  8.433000e+05   9440\n",
       "16                    kw_avg_max  568179.687500 -6.435281e+04    960\n",
       "17                    kw_min_avg    5141.952579 -3.085172e+03      0\n",
       "18                    kw_max_avg    9706.732474 -1.246769e+02   2391\n",
       "19                    kw_avg_avg    5426.901062  5.557771e+02   1629\n",
       "20     self_reference_min_shares    5541.500000 -2.302500e+03   4976\n",
       "21     self_reference_max_shares   18350.000000 -9.250000e+03   4183\n",
       "22     self_reference_avg_shares   11528.218750 -5.347031e+03   4209\n",
       "23                        LDA_00       0.564819 -2.988107e-01   5282\n",
       "24                        LDA_01       0.339560 -1.637161e-01   5834\n",
       "25                        LDA_02       0.792688 -4.298982e-01   3541\n",
       "26                        LDA_03       0.896549 -4.922152e-01   1075\n",
       "27                        LDA_04       0.957104 -5.285445e-01      0\n",
       "28           global_subjectivity       0.676583  2.279167e-01   1912\n",
       "29     global_sentiment_polarity       0.357944 -1.223549e-01    825\n",
       "30    global_rate_positive_words       0.083122 -4.458296e-03    497\n",
       "31    global_rate_negative_words       0.039925 -8.570234e-03   1324\n",
       "32           rate_positive_words       1.100000  3.000000e-01   1594\n",
       "33           rate_negative_words       0.683761 -1.139601e-01    494\n",
       "34         avg_positive_polarity       0.569204  1.484671e-01   2095\n",
       "35         min_positive_polarity       0.175000 -2.500000e-02   3147\n",
       "36         max_positive_polarity       1.600000 -1.110223e-16      0\n",
       "37         avg_negative_polarity       0.025312 -5.405993e-01    865\n",
       "38         min_negative_polarity       0.300000 -1.300000e+00      0\n",
       "39         max_negative_polarity       0.062500 -2.375000e-01   2454\n",
       "40            title_subjectivity       1.250000 -7.500000e-01      0\n",
       "41      title_sentiment_polarity       0.375000 -2.250000e-01   7592\n",
       "42        abs_title_subjectivity       1.000000 -3.333333e-01      0\n",
       "43  abs_title_sentiment_polarity       0.625000 -3.750000e-01   1655\n",
       "44                        shares    5581.000000 -1.835000e+03   4541"
      ]
     },
     "execution_count": 26,
     "metadata": {},
     "output_type": "execute_result"
    }
   ],
   "source": [
    "# IQR METHOD\n",
    "\n",
    "ul_val = []\n",
    "ll_val = []\n",
    "out_count = []\n",
    "\n",
    "\n",
    "def limits(col):\n",
    "    q1 = ndf[col].quantile(0.25)\n",
    "    q3 = ndf[col].quantile(0.75)\n",
    "    iqr = q3 - q1\n",
    "    ul = q3 + 1.5 * iqr\n",
    "    ll = q1 - 1.5 * iqr\n",
    "    ul_val.append(ul)\n",
    "    ll_val.append(ll)\n",
    "    uc = ndf[ndf[col]>ul].shape[0]\n",
    "    lc = ndf[ndf[col]<ll].shape[0]\n",
    "    out_count.append(uc+lc)\n",
    "    \n",
    "for i in sel_col:\n",
    "    limits(i)\n",
    "    \n",
    "pd.DataFrame({'features': sel_col, 'upper_limit': ul_val, 'lower_limit': ll_val,\n",
    "              'count': out_count})\n",
    "\n",
    "\n"
   ]
  },
  {
   "cell_type": "markdown",
   "metadata": {},
   "source": [
    "\n",
    "## Inference:\n",
    "\n",
    "- There a large number of outliers removing all of these may lead to loss of information\n",
    "- Hence, none of the outliers are removed."
   ]
  },
  {
   "cell_type": "code",
   "execution_count": null,
   "metadata": {},
   "outputs": [],
   "source": []
  },
  {
   "cell_type": "markdown",
   "metadata": {},
   "source": [
    "# 9. Statistical Significance"
   ]
  },
  {
   "cell_type": "markdown",
   "metadata": {},
   "source": [
    "### Categorical vs Categorical: Chi-square test"
   ]
  },
  {
   "cell_type": "code",
   "execution_count": null,
   "metadata": {},
   "outputs": [],
   "source": [
    "cat_cols = ndf.select_dtypes(include='object').columns\n",
    "num_cols = ndf.select_dtypes(exclude='object').columns\n",
    "\n",
    "unique_dict = {i:list(ndf[i].unique()) for i in cat_cols}\n",
    "\n",
    "# Chi-square test for data channels and class\n",
    "from scipy.stats import f_oneway,chi2_contingency,ttest_ind\n",
    "from statsmodels.stats.proportion import proportions_ztest\n",
    "\n",
    "stat,p,df,exp= chi2_contingency(pd.crosstab(ndf['data_ch'],ndf['class']).values)\n",
    "print(p)"
   ]
  },
  {
   "cell_type": "markdown",
   "metadata": {},
   "source": [
    "\n",
    "Observation:\n",
    "\n",
    "- pvalue < 0.05 | reject null | thus, there is relation between data channels and class|conclude that, data channel is a significant variable for class\n",
    "\n"
   ]
  },
  {
   "cell_type": "code",
   "execution_count": null,
   "metadata": {},
   "outputs": [],
   "source": [
    "# Chi-square test for days and class\n",
    "stat,p,df,exp= chi2_contingency(pd.crosstab(ndf['days'],ndf['class']).values)\n",
    "print(p)\n"
   ]
  },
  {
   "cell_type": "markdown",
   "metadata": {},
   "source": [
    "\n",
    "Observation:\n",
    "\n",
    "- pvalue < 0.05 | reject null | thus, there is relation between days and class|conclude that, days is a significant variable for class\n",
    "\n"
   ]
  },
  {
   "cell_type": "markdown",
   "metadata": {},
   "source": [
    "### Categorical vs Numerical"
   ]
  },
  {
   "cell_type": "code",
   "execution_count": null,
   "metadata": {},
   "outputs": [],
   "source": [
    "\n",
    "pval = []\n",
    "results = {}\n",
    "\n",
    "# SHAPIRO - H0: Data is normal | H1: Data is not normal\n",
    "def shapiro_test(arr):\n",
    "    for col in arr:\n",
    "        tstat, p =  shapiro(ndf[col])\n",
    "        pval.append(p)\n",
    "    return pval\n",
    "\n",
    "\n",
    "# Two sample ttest - independent samples (normal)\n",
    "# H0: the means of both populations are equal | H1: the means are not equal.\n",
    "def ttest_ind_test(arr):\n",
    "    for i in arr:\n",
    "            cl0 = ndf[ndf['class']==0][i]\n",
    "            cl1 = ndf[ndf['class']==1][i]\n",
    "            t, p = ttest_ind(cl0,cl1)\n",
    "            pval.append(p)\n",
    "    return pval\n",
    "\n",
    "\n",
    "# Mannwhitneyu - when the independent variables are not normal\n",
    "# H0: the distributions of both populations are equal | H1: the distributions are not equal.\n",
    "def man_test(arr):\n",
    "    for i in arr:\n",
    "            cl0 = ndf[ndf['class']==0][i]\n",
    "            cl1 = ndf[ndf['class']==1][i]\n",
    "            t, p = mannwhitneyu(cl0,cl1)\n",
    "            pval.append(p)\n",
    "    return pval\n"
   ]
  },
  {
   "cell_type": "code",
   "execution_count": null,
   "metadata": {},
   "outputs": [],
   "source": [
    "pval = []\n",
    "results = {}\n",
    "shapiro_test(num_cols)\n",
    "results.update({'features': num_cols, 'pvalue': pval})\n",
    "pd.DataFrame(results)\n"
   ]
  },
  {
   "cell_type": "markdown",
   "metadata": {},
   "source": [
    "\n",
    "Observations: \n",
    " \n",
    "pvalues of all features < 0.05 | reject null | conclude data is not normal\n"
   ]
  },
  {
   "cell_type": "code",
   "execution_count": null,
   "metadata": {},
   "outputs": [],
   "source": [
    "# As the independent variables are not normal, performing mannwhitneyu test - 2 sample independent ttest\n",
    "pval = []\n",
    "results = {}\n",
    "\n",
    "man_test(num_cols[:-1])\n",
    "\n",
    "results.update({'features': num_cols[:-1], 'pvalue': pval})\n",
    "pd.DataFrame(results)\n"
   ]
  },
  {
   "cell_type": "markdown",
   "metadata": {},
   "source": [
    "Observations:\n",
    "\n",
    "all features pvalue < 0.05 | reject null | all significant except negative polarity(avg,min,max) and abs_title_subjectivity"
   ]
  },
  {
   "cell_type": "markdown",
   "metadata": {},
   "source": [
    "# 10. Checking for Class Imbalance"
   ]
  },
  {
   "cell_type": "code",
   "execution_count": 11,
   "metadata": {},
   "outputs": [],
   "source": [
    "df1 = df.copy()\n",
    "\n",
    "df1['class'] = df1['shares'].apply(lambda x: 1 if x>1400 else 0)\n",
    "\n",
    "df1 = df1.drop('shares', axis = 1)"
   ]
  },
  {
   "cell_type": "code",
   "execution_count": 12,
   "metadata": {},
   "outputs": [
    {
     "data": {
      "text/html": [
       "<div>\n",
       "<style scoped>\n",
       "    .dataframe tbody tr th:only-of-type {\n",
       "        vertical-align: middle;\n",
       "    }\n",
       "\n",
       "    .dataframe tbody tr th {\n",
       "        vertical-align: top;\n",
       "    }\n",
       "\n",
       "    .dataframe thead th {\n",
       "        text-align: right;\n",
       "    }\n",
       "</style>\n",
       "<table border=\"1\" class=\"dataframe\">\n",
       "  <thead>\n",
       "    <tr style=\"text-align: right;\">\n",
       "      <th>col_0</th>\n",
       "      <th>number of records</th>\n",
       "    </tr>\n",
       "    <tr>\n",
       "      <th>class</th>\n",
       "      <th></th>\n",
       "    </tr>\n",
       "  </thead>\n",
       "  <tbody>\n",
       "    <tr>\n",
       "      <td>0</td>\n",
       "      <td>20082</td>\n",
       "    </tr>\n",
       "    <tr>\n",
       "      <td>1</td>\n",
       "      <td>19562</td>\n",
       "    </tr>\n",
       "  </tbody>\n",
       "</table>\n",
       "</div>"
      ],
      "text/plain": [
       "col_0  number of records\n",
       "class                   \n",
       "0                  20082\n",
       "1                  19562"
      ]
     },
     "execution_count": 12,
     "metadata": {},
     "output_type": "execute_result"
    }
   ],
   "source": [
    "pd.crosstab(df1['class'],columns = ['number of records'])"
   ]
  },
  {
   "cell_type": "code",
   "execution_count": 13,
   "metadata": {},
   "outputs": [
    {
     "name": "stdout",
     "output_type": "stream",
     "text": [
      "Distribution of classes in percent\n"
     ]
    },
    {
     "data": {
      "text/plain": [
       "0    50.655837\n",
       "1    49.344163\n",
       "Name: class, dtype: float64"
      ]
     },
     "execution_count": 13,
     "metadata": {},
     "output_type": "execute_result"
    }
   ],
   "source": [
    "print('Distribution of classes in percent')\n",
    "df1['class'].value_counts(normalize=True)*100"
   ]
  },
  {
   "cell_type": "markdown",
   "metadata": {},
   "source": [
    "## Inference:\n",
    "\n",
    "- Here, each class (0 and 1) consists of almost equal number of records 50% and 49% respectively. \n",
    "- This indicates that there is not much differnce in the distribution of classes\n",
    "- Hence, there is no problem of class imbalance for this dataset."
   ]
  },
  {
   "cell_type": "code",
   "execution_count": 22,
   "metadata": {},
   "outputs": [
    {
     "name": "stdout",
     "output_type": "stream",
     "text": [
      "Distribution of classes in percent [0.50655837 0.49344163]\n"
     ]
    },
    {
     "data": {
      "image/png": "[encoded data removed]",
      "text/plain": [
       "<Figure size 432x288 with 1 Axes>"
      ]
     },
     "metadata": {
      "needs_background": "light"
     },
     "output_type": "display_data"
    }
   ],
   "source": [
    "print('Distribution of classes in percent', df1['class'].value_counts(normalize=True).values)\n",
    "\n",
    "\n",
    "sns.barplot(x = df1['class'].value_counts().index, y = df1['class'].value_counts(normalize=True)*100)\n",
    "plt.title('Distribution of Target Variable\\n')\n",
    "plt.xlabel('class')\n",
    "plt.ylabel('percentage\\n')\n",
    "plt.show()"
   ]
  },
  {
   "cell_type": "markdown",
   "metadata": {},
   "source": [
    "## Saving the final dataframe\n",
    "- with class as target variable for future use"
   ]
  },
  {
   "cell_type": "code",
   "execution_count": 9,
   "metadata": {},
   "outputs": [],
   "source": [
    "df1.to_csv('E:\\PGP-DSE\\Capstone Project\\Group 2\\OnlineNewsPopularity\\ONPClass.csv', index = False)"
   ]
  },
  {
   "cell_type": "code",
   "execution_count": null,
   "metadata": {},
   "outputs": [],
   "source": []
  }
 ],
 "metadata": {
  "kernelspec": {
   "display_name": "Python 3",
   "language": "python",
   "name": "python3"
  },
  "language_info": {
   "codemirror_mode": {
    "name": "ipython",
    "version": 3
   },
   "file_extension": ".py",
   "mimetype": "text/x-python",
   "name": "python",
   "nbconvert_exporter": "python",
   "pygments_lexer": "ipython3",
   "version": "3.7.4"
  }
 },
 "nbformat": 4,
 "nbformat_minor": 2
}
